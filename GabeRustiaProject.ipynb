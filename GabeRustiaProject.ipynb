{
 "cells": [
  {
   "cell_type": "code",
   "execution_count": 1,
   "metadata": {},
   "outputs": [
    {
     "name": "stderr",
     "output_type": "stream",
     "text": [
      "Creating training set: 100%|██████████| 181/181 [01:57<00:00,  1.54patients/s]\n",
      "Creating testing set: 100%|██████████| 178/178 [02:02<00:00,  1.46patients/s]\n"
     ]
    }
   ],
   "source": [
    "import pandas as pd\n",
    "import numpy as np\n",
    "import flowio\n",
    "import warnings \n",
    "from tqdm import tqdm\n",
    "\n",
    "def std(channel_data):\n",
    "    # Calculate the mean\n",
    "    mean = sum(channel_data) / len(channel_data)\n",
    "    \n",
    "    # Calculate the squared differences from the mean\n",
    "    squared_diff = [(x - mean) ** 2 for x in channel_data]\n",
    "    \n",
    "    # Calculate the variance\n",
    "    variance = sum(squared_diff) / len(channel_data)\n",
    "    \n",
    "    # Calculate the standard deviation (square root of the variance)\n",
    "    std_dev = variance ** 0.5\n",
    "    \n",
    "    # Standardize the data\n",
    "    STD = [(x - mean) / std_dev for x in channel_data]\n",
    "    #STD = channel_data\n",
    "    #STD = np.median(channel_data)\n",
    "    return [STD]\n",
    "\n",
    "def extract_features(patient_number):\n",
    "    # given a patient number, open all relevant files and extract desired features. Return a single array of extracted features. \n",
    "    #NOTE: this is not the only way to set up your data matrix. Feel free to change this up. \n",
    "\n",
    "    feature_array = [patient_number] # start with the patient number in the first column so you can link labels. Remove prior to training/testing\n",
    "    for sample in range(1,9):# 8 samples per patient      \n",
    "        file_number = (patient_number-1)*8+sample # calculate the file number given the patient and sample numbers\n",
    "        file_number_4d = '{:04d}'.format(file_number) # 4-digit file number (ex: 0007 instead of 7)\n",
    "\n",
    "        # NOTE: CHANGE THIS TO THE CORRECT FILE PATH ON YOUR COMPUTER\n",
    "        file_path = '/Users/gaberustia/Desktop/EGR410/Project_1_AML/FlowCytometry_files_1/' + file_number_4d + '.FCS'\n",
    "\n",
    "        try:\n",
    "            # Load the FCS file\n",
    "            fcs_file_multi = flowio.read_multiple_data_sets(file_path,ignore_offset_error=True)\n",
    "            # NOTE: there are 2 data sets in each file. The first is the real data, the second is control data (e.g. saline flush)\n",
    "            # if you don't want to look at the second dataset, uncomment the following line: \n",
    "            del fcs_file_multi[-1] # this deletes the control portion of the file\n",
    "\n",
    "            for ff in fcs_file_multi: \n",
    "                # Access metadata of the current data set\n",
    "                metadata = ff.text\n",
    "                # print(\"\\nMetadata:\", metadata)\n",
    "\n",
    "                header = ff.header\n",
    "                # print('\\nHeader:', header)\n",
    "\n",
    "                analysis = ff.analysis\n",
    "                # print('\\nAnalysis:', analysis)\n",
    "\n",
    "                channel_count = ff.channel_count\n",
    "                # print('\\nChannel count:', channel_count)\n",
    "\n",
    "                channels = ff.channels\n",
    "                # print('\\nChannels:', channels)\n",
    "\n",
    "                event_count = ff.event_count\n",
    "                # print('\\nEvent count:', event_count)\n",
    "\n",
    "                # Access data of the current data set\n",
    "                data = ff.events\n",
    "                # print('\\nData length: ',len(data))\n",
    "\n",
    "                for cc in range(0,channel_count):\n",
    "                    channel_name = 'p'+str(cc+1)+'n'\n",
    "\n",
    "                    channel_data = data[cc*event_count:(cc+1)*event_count-1]\n",
    "\n",
    "                    my_feature = std(channel_data)\n",
    "\n",
    "                    feature_array.append(my_feature) # assuming 'my_feature' is a single value, this will add 56 features (7 channels * 8 vials) for each patient \n",
    "                    # NOTE: if my_feature is an array instead of a single value, you will need to change up the structure on how you build your dataset for it to work properly. \n",
    "\n",
    "                    # It might be a good idea to look at some graphs...\n",
    "\n",
    "                    # # Visualize channel distribution with a histogram \n",
    "                    # plt.hist(channel_data, bins=50, color='blue', alpha=0.7)\n",
    "                    # plt.title(f'Histogram of {channel_name}')\n",
    "                    # plt.xlabel('Fluorescence Intensity')\n",
    "                    # plt.ylabel('Frequency')\n",
    "                    # plt.show()\n",
    "\n",
    "        except Exception as e:\n",
    "            print('\\n\\nerror with file '+file_number_4d)\n",
    "            print(e)\n",
    "\n",
    "    return feature_array\n",
    "\n",
    "warnings.simplefilter(\"ignore\", category=UserWarning) # the .fcs file format throws a warning about data offsets. safe to ignore. alternative: 1 warning message every time you open a .fcs file (terminal now has 2500 warning messages)\n",
    "\n",
    "\n",
    "# load patient numbers for training and testing \n",
    "training_patients_df = pd.read_csv('/Users/gaberustia/Desktop/EGR410/Project_1_AML/training_patients.csv')\n",
    "testing_patients_df = pd.read_csv('/Users/gaberustia/Desktop/EGR410/Project_1_AML/testing_patients.csv')\n",
    "\n",
    "training_set = [] # create placeholder\n",
    "patients_train = training_patients_df['Patient Number'].to_list()\n",
    "for patient in tqdm(patients_train, desc=\"Creating training set\", unit=\"patients\"): # 181 patients total\n",
    "    training_set.append(extract_features(patient)) # create array of arrays (matrix)\n",
    "df_train = pd.DataFrame(training_set) # NOTE: this doesn't have any column names. I suggest you keep track of which features are which. \n",
    "df_train.to_csv('training_set.csv',index=False)\n",
    "\n",
    "testing_set = [] # create placeholder\n",
    "patients_test = testing_patients_df['Patient Number'].to_list()\n",
    "for patient in tqdm(patients_test, desc=\"Creating testing set\", unit=\"patients\"): # 178 patients total\n",
    "    testing_set.append(extract_features(patient)) # create array of arrays (matrix)\n",
    "df_test = pd.DataFrame(testing_set)\n",
    "df_test.to_csv('testing_set.csv',index=False)\n"
   ]
  },
  {
   "cell_type": "code",
   "execution_count": 2,
   "metadata": {},
   "outputs": [
    {
     "name": "stderr",
     "output_type": "stream",
     "text": [
      "Creating training set: 100%|██████████| 181/181 [01:44<00:00,  1.74patients/s]\n",
      "Creating testing set: 100%|██████████| 178/178 [01:41<00:00,  1.75patients/s]\n"
     ]
    }
   ],
   "source": [
    "import statistics as st\n",
    "\n",
    "def mean(channel_data):\n",
    "    med = st.median(channel_data)\n",
    "    return [med]\n",
    "\n",
    "def extract_features2(patient_number):\n",
    "    # given a patient number, open all relevant files and extract desired features. Return a single array of extracted features. \n",
    "    #NOTE: this is not the only way to set up your data matrix. Feel free to change this up. \n",
    "\n",
    "    feature_array = [patient_number] # start with the patient number in the first column so you can link labels. Remove prior to training/testing\n",
    "    for sample in range(1,9):# 8 samples per patient      \n",
    "        file_number = (patient_number-1)*8+sample # calculate the file number given the patient and sample numbers\n",
    "        file_number_4d = '{:04d}'.format(file_number) # 4-digit file number (ex: 0007 instead of 7)\n",
    "\n",
    "        # NOTE: CHANGE THIS TO THE CORRECT FILE PATH ON YOUR COMPUTER\n",
    "        file_path = '/Users/gaberustia/Desktop/EGR410/Project_1_AML/FlowCytometry_files_1/' + file_number_4d + '.FCS'\n",
    "\n",
    "        try:\n",
    "            # Load the FCS file\n",
    "            fcs_file_multi = flowio.read_multiple_data_sets(file_path,ignore_offset_error=True)\n",
    "            # NOTE: there are 2 data sets in each file. The first is the real data, the second is control data (e.g. saline flush)\n",
    "            # if you don't want to look at the second dataset, uncomment the following line: \n",
    "            del fcs_file_multi[-1] # this deletes the control portion of the file\n",
    "\n",
    "            for ff in fcs_file_multi: \n",
    "                # Access metadata of the current data set\n",
    "                metadata = ff.text\n",
    "                # print(\"\\nMetadata:\", metadata)\n",
    "\n",
    "                header = ff.header\n",
    "                # print('\\nHeader:', header)\n",
    "\n",
    "                analysis = ff.analysis\n",
    "                # print('\\nAnalysis:', analysis)\n",
    "\n",
    "                channel_count = ff.channel_count\n",
    "                # print('\\nChannel count:', channel_count)\n",
    "\n",
    "                channels = ff.channels\n",
    "                # print('\\nChannels:', channels)\n",
    "\n",
    "                event_count = ff.event_count\n",
    "                # print('\\nEvent count:', event_count)\n",
    "\n",
    "                # Access data of the current data set\n",
    "                data = ff.events\n",
    "                # print('\\nData length: ',len(data))\n",
    "\n",
    "                for cc in range(0,channel_count):\n",
    "                    channel_name = 'p'+str(cc+1)+'n'\n",
    "\n",
    "                    channel_data = data[cc*event_count:(cc+1)*event_count-1]\n",
    "\n",
    "                    my_feature = mean(channel_data)\n",
    "\n",
    "                    feature_array.append(my_feature) # assuming 'my_feature' is a single value, this will add 56 features (7 channels * 8 vials) for each patient \n",
    "                    # NOTE: if my_feature is an array instead of a single value, you will need to change up the structure on how you build your dataset for it to work properly. \n",
    "\n",
    "                    # It might be a good idea to look at some graphs...\n",
    "\n",
    "                    # # Visualize channel distribution with a histogram \n",
    "                    # plt.hist(channel_data, bins=50, color='blue', alpha=0.7)\n",
    "                    # plt.title(f'Histogram of {channel_name}')\n",
    "                    # plt.xlabel('Fluorescence Intensity')\n",
    "                    # plt.ylabel('Frequency')\n",
    "                    # plt.show()\n",
    "\n",
    "        except Exception as e:\n",
    "            print('\\n\\nerror with file '+file_number_4d)\n",
    "            print(e)\n",
    "\n",
    "    return feature_array\n",
    "\n",
    "warnings.simplefilter(\"ignore\", category=UserWarning) \n",
    "\n",
    "training_med = [] # create placeholder\n",
    "patients_train = training_patients_df['Patient Number'].to_list()\n",
    "for patient in tqdm(patients_train, desc=\"Creating training set\", unit=\"patients\"): # 181 patients total\n",
    "    training_med.append(extract_features2(patient)) # create array of arrays (matrix)\n",
    "df_train_med = pd.DataFrame(training_med) # NOTE: this doesn't have any column names. I suggest you keep track of which features are which. \n",
    "\n",
    "\n",
    "testing_med = [] # create placeholder\n",
    "patients_test = testing_patients_df['Patient Number'].to_list()\n",
    "for patient in tqdm(patients_test, desc=\"Creating testing set\", unit=\"patients\"): # 178 patients total\n",
    "    testing_med.append(extract_features2(patient)) # create array of arrays (matrix)\n",
    "df_test_med = pd.DataFrame(testing_med)\n"
   ]
  },
  {
   "cell_type": "markdown",
   "metadata": {},
   "source": [
    "## TRAINING"
   ]
  },
  {
   "cell_type": "code",
   "execution_count": 3,
   "metadata": {},
   "outputs": [],
   "source": [
    "import pandas as pd\n",
    "from sklearn.tree import DecisionTreeClassifier\n",
    "from sklearn.model_selection import train_test_split\n",
    "from sklearn.metrics import accuracy_score\n",
    "import numpy as np\n",
    "\n",
    "def gate2(cell_num, fsc, ssc, FSC_thres, SSC_thres):\n",
    "    new_cell_num = []\n",
    "    for i in range(cell_num):  # Iterate over indices instead of directly over cell_num\n",
    "        if fsc[i] > FSC_thres and ssc[i] < SSC_thres:\n",
    "            new_cell_num.append(i)  # Append index of the cell, not the cell itself\n",
    "    return new_cell_num\n",
    "\n",
    "def gate1(cell_num, cd45, ssc, SSC_thresH, SSC_thresL, CD45_thresH, CD45_thresL):\n",
    "    new_cell_num2 = []\n",
    "    for i in range(cell_num):  # iterate over indices\n",
    "        if cd45[i] > CD45_thresL and cd45[i] < CD45_thresH and ssc[i] < SSC_thresH and ssc[i] > SSC_thresL:\n",
    "            new_cell_num2.append(i)\n",
    "    return new_cell_num2\n",
    "\n"
   ]
  },
  {
   "cell_type": "code",
   "execution_count": 4,
   "metadata": {},
   "outputs": [
    {
     "data": {
      "text/plain": [
       "' BEST \\nF1: 2.5\\nCD45:  0.32:1.75\\nSSC: -1.2:-0.4 '"
      ]
     },
     "execution_count": 4,
     "metadata": {},
     "output_type": "execute_result"
    }
   ],
   "source": [
    "FSC_thres = -0.748\n",
    "SSC_thres = 1000.5 \n",
    "SSC_thresH = -0.4\n",
    "SSC_thresL = -1.2 #-1.2\n",
    "CD45_thresH = 1.75\n",
    "CD45_thresL = 0.32\n",
    "\n",
    "\"\"\" BEST \n",
    "F1: 2.5\n",
    "CD45:  0.32:1.75\n",
    "SSC: -1.2:-0.4 \"\"\"\n",
    "\n",
    "#rf = 0.8918918918918919\n",
    "#svc = 0.9459459459459459\n",
    "#dc = 0.918918918918919\n",
    "\n",
    "#CD45: 0.3:1.7\n",
    "#SS: -1.2:-0.4"
   ]
  },
  {
   "cell_type": "code",
   "execution_count": 5,
   "metadata": {},
   "outputs": [
    {
     "name": "stdout",
     "output_type": "stream",
     "text": [
      "[3, 18, 29, 32, 44, 49, 55, 57, 66, 83, 89, 101, 107, 114, 118, 128, 134, 141, 142, 149, 155, 169, 173]\n"
     ]
    }
   ],
   "source": [
    "df = pd.DataFrame(training_patients_df)\n",
    "\n",
    "# Find cell positions where the Diagnosis is 'aml'\n",
    "aml_positions = df.index[df['Diagnosis'] == 'aml'].tolist()\n",
    "\n",
    "# Find cell positions where the Diagnosis is 'normal'\n",
    "normal_positions = df.index[df['Diagnosis'] == 'normal'].tolist()\n",
    "\n",
    "# Store the positions in an array\n",
    "train_dia = {\n",
    "    'aml': aml_positions,\n",
    "    'normal': normal_positions\n",
    "}\n",
    "\n",
    "print(aml_positions)"
   ]
  },
  {
   "cell_type": "code",
   "execution_count": 6,
   "metadata": {},
   "outputs": [
    {
     "name": "stdout",
     "output_type": "stream",
     "text": [
      "[29999, 29999, 29999, 29999, 29999, 29999, 29999, 29999, 29999, 29999, 29999, 29999, 29999, 20823, 29999, 26898, 29999, 29999, 29999, 29999, 29999, 29999, 29999, 29999, 29999, 29999, 29999, 29999, 29999, 28640, 29999, 29999, 29999, 29999, 29999, 29999, 29999, 29999, 29999, 29999, 29999, 29999, 29999, 29999, 13951, 29999, 29999, 29999, 29999, 29999, 29999, 29999, 29999, 29999, 29999, 29999, 29999, 29999, 29999, 29999, 29999, 29999, 29999, 29999, 26986, 29999, 13960, 29999, 29999, 29999, 29999, 29999, 29999, 29999, 29999, 29999, 29999, 29999, 29999, 29999, 29999, 29999, 29999, 12839, 29999, 29999, 29999, 27499, 29999, 29999, 29999, 29999, 17577, 29999, 29999, 29999, 29999, 29999, 29999, 29999, 29999, 29999, 29999, 29999, 29999, 29999, 29999, 29999, 29999, 29999, 29999, 29999, 29999, 29999, 49999, 29999, 29999, 29999, 29999, 29999, 28016, 29999, 29999, 29999, 29999, 29999, 29999, 29999, 17251, 29999, 29999, 29999, 29999, 29999, 29999, 29999, 29999, 29999, 29999, 29999, 29999, 9999, 29999, 29999, 29999, 29999, 9999, 29999, 29999, 29999, 29999, 29999, 49999, 29999, 29999, 17228, 29999, 26564, 29999, 29999, 29999, 29999, 9999, 9999, 29999, 29999, 29999, 29999, 29999, 28320, 29999, 29999, 29999, 12149, 29999, 29999, 29999, 29999, 29999, 29999, 28007]\n"
     ]
    }
   ],
   "source": [
    "num_of_cells = []  # Initialize an empty list to store the number of cells for each patient\n",
    "\n",
    "# Iterate over each row (patient) in df_train\n",
    "for i in range(len(df_train)):\n",
    "    # Get the number of cells for the current patient (assuming it's in the second column)\n",
    "    cells_count = len(np.array(df_train.iloc[i, 1]).flatten())\n",
    "    \n",
    "    # Append the number of cells to the num_of_cells list\n",
    "    num_of_cells.append(cells_count)\n",
    "\n",
    "# Now, num_of_cells contains the number of cells for each patient\n",
    "    \n",
    "print(num_of_cells)"
   ]
  },
  {
   "cell_type": "markdown",
   "metadata": {},
   "source": [
    "## TRAINING GATES"
   ]
  },
  {
   "cell_type": "code",
   "execution_count": 7,
   "metadata": {},
   "outputs": [
    {
     "name": "stdout",
     "output_type": "stream",
     "text": [
      "[0.11667055568518951, 0.04603486782892763, 0.062035401180039335, 0.07976932564418814, 0.06650221674055802, 0.08663622120737358, 0.086802893429781, 0.07286909563652122, 0.07066902230074336, 0.06866895563185439, 0.08416947231574386, 0.060668688956298546, 0.07763592119737324, 0.027949863132113527, 0.10397013233774459, 0.1259573202468585, 0.06460215340511351, 0.08093603120104004, 0.07460248674955831, 0.08883629454315144, 0.07766925564185473, 0.05280176005866862, 0.08123604120137339, 0.13707123570785693, 0.08540284676155872, 0.07633587786259542, 0.08126937564585486, 0.07133571119037302, 0.09063635454515151, 0.09979050279329608, 0.07163572119070635, 0.06813560452015067, 0.07790259675322511, 0.07643588119603986, 0.0731024367478916, 0.07710257008566952, 0.05616853895129838, 0.14100470015667188, 0.047101570052335076, 0.07536917897263243, 0.08000266675555852, 0.10670355678522618, 0.10083669455648521, 0.05903530117670589, 0.0806393806895563, 0.0532351078369279, 0.08960298676622554, 0.0902696756558552, 0.06833561118703957, 0.08740291343044768, 0.0684689489649655, 0.07556918563952132, 0.12080402680089336, 0.07513583786126204, 0.09686989566318878, 0.06350211673722457, 0.11527050901696723, 0.07953598453281777, 0.06510217007233575, 0.07626920897363246, 0.07240241341378045, 0.0661688722957432, 0.05313510450348345, 0.05170172339077969, 0.08033795301267324, 0.08453615120504017, 0.16210601719197706, 0.061102036734557816, 0.07833594453148439, 0.08146938231274375, 0.08656955231841061, 0.07520250675022501, 0.0663355445181506, 0.0717357245241508, 0.056401880062668754, 0.060168672289076304, 0.06503550118337278, 0.06413547118237274, 0.07640254675155839, 0.08180272675755859, 0.09130304343478116, 0.05756858561952065, 0.07990266342211406, 0.07742035984110912, 0.07283576119203973, 0.07413580452681756, 0.07956931897729924, 0.07851194588894142, 0.10563685456181873, 0.05453515117170572, 0.0696356545218174, 0.05806860228674289, 0.06701940035273368, 0.08070269008966965, 0.10243674789159639, 0.050235007833594456, 0.09080302676755891, 0.08476949231641055, 0.08290276342544751, 0.05780192673089103, 0.07180239341311377, 0.13220440681356047, 0.06490216340544684, 0.09716990566352211, 0.10790359678655956, 0.06763558785292843, 0.09283642788092937, 0.07303576785892862, 0.08033601120037334, 0.07970265675522517, 0.06213540451348378, 0.06680222674089137, 0.09280309343644788, 0.05850195006500217, 0.06588131762635252, 0.07256908563618787, 0.09403646788226275, 0.08213607120237341, 0.10670355678522618, 0.07610253675122504, 0.055289834380354085, 0.07720257341911398, 0.04423480782692756, 0.07520250675022501, 0.08110270342344744, 0.10707023567452248, 0.09423647454915164, 0.07220240674689156, 0.06741638165903426, 0.06330211007033568, 0.0632687756258542, 0.11537051235041168, 0.07470249008300277, 0.12157071902396746, 0.07826927564252142, 0.08850295009833661, 0.08213607120237341, 0.05293509783659455, 0.0721357378579286, 0.078102603420114, 0.06780226007533584, 0.05350535053505351, 0.1249708323610787, 0.06173539117970599, 0.06496883229440982, 0.08456948564952164, 0.0593059305930593, 0.08866962232074402, 0.06163538784626154, 0.10747024900830028, 0.05606853561785393, 0.08866962232074402, 0.04148082961659233, 0.05966865562185406, 0.047901596719890666, 0.10686092407708382, 0.07460248674955831, 0.003463333835265773, 0.08383612787092903, 0.05826860895363179, 0.1053035101170039, 0.06050201673389113, 0.05890589058905891, 0.0662066206620662, 0.057035234507816925, 0.09310310343678123, 0.0817693923130771, 0.07536917897263243, 0.07150238341278042, 0.043820621468926554, 0.06883562785426181, 0.049434981166038866, 0.06886896229874329, 0.0967157790764672, 0.0611353711790393, 0.10250341678055935, 0.07426914230474349, 0.09363645454848495, 0.06810227007566919, 0.0844694823160772, 0.07973006748312922]\n"
     ]
    }
   ],
   "source": [
    "gate_1 = []\n",
    "for i in range(len(df_train)):\n",
    "    fsc1 = np.array(df_train.iloc[i,1]).flatten()  # Remove [i] index\n",
    "    ssc1 = np.array(df_train.iloc[i,2]).flatten()  # Remove [i] index\n",
    "    cd451 = np.array(df_train.iloc[i,5]).flatten()  # Remove [i] index\n",
    "    \n",
    "    gate10001 = gate1(num_of_cells[i], cd451, ssc1, SSC_thresH, SSC_thresL, CD45_thresH, CD45_thresL)  # Remove [i] index\n",
    "    gate_1.append(gate10001)\n",
    "#print(gate_1[1])\n",
    "\n",
    "gate_2 = []\n",
    "for i in range(len(df_train)):\n",
    "    fsc2 = np.array(df_train.iloc[i,1]).flatten()\n",
    "    ssc2 = np.array(df_train.iloc[i,2]).flatten()\n",
    "\n",
    "    gate_fsc = [fsc2[loc] for loc in gate_1[i]]\n",
    "    gate_ssc = [ssc2[loc] for loc in gate_1[i]]\n",
    "\n",
    "    gate_num_cell = len(gate_1)\n",
    "\n",
    "    gate20002 = gate2(len(gate_1[i]),gate_fsc,gate_ssc,FSC_thres,SSC_thres)\n",
    "    gate_2.append(gate20002)\n",
    "\n",
    "blast_ratio1 = []\n",
    "for i in range(len(df_train)):\n",
    "    ratio = len(gate_2[i])/(num_of_cells[i])\n",
    "    blast_ratio1.append(ratio)\n",
    "\n",
    "print(blast_ratio1)\n"
   ]
  },
  {
   "cell_type": "code",
   "execution_count": 8,
   "metadata": {},
   "outputs": [
    {
     "name": "stdout",
     "output_type": "stream",
     "text": [
      "[29999, 29999, 29999, 29999, 29999, 29999, 29999, 29999, 29999, 29999, 29999, 29999, 29999, 23930, 29999, 27458, 29999, 29999, 29999, 29999, 29999, 29999, 29999, 29999, 23132, 29999, 29999, 29999, 29999, 29033, 29999, 29999, 29999, 29999, 29999, 29999, 29999, 29999, 29999, 29999, 29999, 29999, 29999, 29999, 13418, 29999, 29999, 29999, 29999, 29999, 29999, 29999, 29999, 29999, 29999, 29999, 29999, 29999, 29999, 29999, 29999, 29999, 29999, 29999, 29999, 29999, 14462, 29999, 29999, 29999, 29999, 29999, 29999, 29999, 29999, 29999, 29999, 29999, 29999, 29999, 29999, 29999, 29999, 29999, 29999, 29999, 29999, 27737, 29999, 29999, 29999, 29999, 17631, 29999, 29999, 29999, 29999, 29999, 29999, 29999, 29999, 29999, 29999, 29999, 29999, 29999, 29999, 29999, 29999, 29999, 29999, 29999, 29999, 29999, 49999, 29999, 29999, 29999, 29999, 29999, 27841, 29999, 29999, 29999, 29999, 29999, 29999, 29999, 16787, 29999, 29999, 29999, 29999, 29999, 29999, 29999, 29999, 29999, 29999, 29999, 29999, 9999, 29999, 29999, 29999, 29999, 9999, 29999, 29999, 14452, 29999, 29999, 49999, 29999, 29999, 16880, 29999, 27173, 29999, 29999, 29999, 29999, 9999, 9999, 29999, 29999, 29999, 29999, 29999, 28483, 29999, 29999, 29999, 12222, 29999, 29999, 29999, 29999, 29999, 29999, 26271]\n"
     ]
    }
   ],
   "source": [
    "num_of_cells2 = []  # Initialize an empty list to store the number of cells for each patient\n",
    "\n",
    "# Iterate over each row (patient) in df_train\n",
    "for i in range(len(df_train)):\n",
    "    # Get the number of cells for the current patient (assuming it's in the second column)\n",
    "    cells_count = len(np.array(df_train.iloc[i, 9]).flatten())\n",
    "    \n",
    "    # Append the number of cells to the num_of_cells list\n",
    "    num_of_cells2.append(cells_count)\n",
    "\n",
    "# Now, num_of_cells contains the number of cells for each patient\n",
    "    \n",
    "print(num_of_cells2)"
   ]
  },
  {
   "cell_type": "code",
   "execution_count": 9,
   "metadata": {},
   "outputs": [
    {
     "name": "stdout",
     "output_type": "stream",
     "text": [
      "[0.05026834227807594, 0.05090169672322411, 0.06943564785492849, 0.06476882562752091, 0.05063502116737224, 0.06993566452215073, 0.04826827560918697, 0.060168672289076304, 0.056135204506816895, 0.048168272275742524, 0.05620187339577986, 0.047234907830261005, 0.06610220340678023, 0.04437944003343084, 0.019067302243408114, 0.05025857673537767, 0.06876895896529885, 0.0692356411880396, 0.04773492449748325, 0.04950165005500183, 0.06840228007600253, 0.06643554785159506, 0.07763592119737324, 0.06996899896663222, 0.058879474321286526, 0.06040201340044668, 0.0567018900630021, 0.06283542784759492, 0.04846828227607587, 0.07625805118313643, 0.04466815560518684, 0.05590186339544651, 0.06103536784559485, 0.05403513450448348, 0.07216907230241008, 0.06573552451748392, 0.05390179672655755, 0.03816793893129771, 0.04333477782592753, 0.0655688522950765, 0.05310177005900197, 0.07243574785826194, 0.05653521784059469, 0.051935064502150075, 0.02161275898047399, 0.054001800060002, 0.059701990066335545, 0.045868195606520216, 0.07446914897163238, 0.037901263375445846, 0.049734991166372214, 0.055168505616853894, 0.041668055601853396, 0.043834794493149774, 0.05870195673189106, 0.06366878895963199, 0.05340178005933531, 0.07176905896863228, 0.04796826560885363, 0.03906796893229774, 0.04930164338811294, 0.06180206006866896, 0.06350211673722457, 0.05383512783759459, 0.07490249674989166, 0.06350211673722457, 0.06582768635043562, 0.04450148338277943, 0.053801793393113105, 0.05540184672822428, 0.05726857561918731, 0.06300210007000233, 0.05356845228174272, 0.061268708956965234, 0.05313510450348345, 0.04266808893629788, 0.06280209340311343, 0.05973532451081703, 0.0626687556251875, 0.04810160338677956, 0.054968498949965, 0.05243508116937231, 0.06870229007633588, 0.06180206006866896, 0.05570185672855762, 0.0565018833961132, 0.053935131171039034, 0.05818942207160111, 0.030767692256408546, 0.05353511783726124, 0.056768558951965066, 0.04846828227607587, 0.0667006976348477, 0.042768092269742326, 0.06920230674355812, 0.06253541784726158, 0.05866862228740958, 0.06076869228974299, 0.06606886896229874, 0.06650221674055802, 0.0642354745158172, 0.0804026800893363, 0.055668522284076136, 0.04626820894029801, 0.04786826227540918, 0.05116837227907597, 0.07110237007900264, 0.06416880562685423, 0.07150238341278042, 0.06153538451281709, 0.04120137337911264, 0.07126904230141004, 0.04270142338077936, 0.06530217673922464, 0.03950079001580031, 0.05370179005966866, 0.08413613787126238, 0.0657688589619654, 0.07536917897263243, 0.05653521784059469, 0.06267734635968536, 0.06800226674222475, 0.0459015300510017, 0.04890163005433514, 0.05240174672489083, 0.0709690323010767, 0.05953531784392813, 0.05886862895429848, 0.10120926907726217, 0.06680222674089137, 0.07006900230007666, 0.04993499783326111, 0.0671022367412247, 0.054068468948964964, 0.05166838894629821, 0.057701923397446585, 0.062168738957965264, 0.06056868562285409, 0.051335044501483386, 0.05890196339877996, 0.05836861228707624, 0.07620762076207621, 0.06340211340378013, 0.051101703390113, 0.05880196006533551, 0.04720157338577952, 0.061406140614061404, 0.07503583452781759, 0.054401813393779794, 0.07044007749792416, 0.07100236674555818, 0.06260208673622454, 0.08164163283265666, 0.0574685822860762, 0.04453481782726091, 0.07191943127962085, 0.05386846228207607, 0.014867699554705039, 0.04813493783126104, 0.03926797559918664, 0.05620187339577986, 0.06416880562685423, 0.09190919091909192, 0.0669066906690669, 0.04890163005433514, 0.06793559785326178, 0.07443581452715091, 0.049134971165705525, 0.07510250341678056, 0.04244637151985395, 0.06506883562785426, 0.040834694489816324, 0.06340211340378013, 0.04770086728849615, 0.05700190006333544, 0.06386879562652088, 0.04330144338144605, 0.06916897229907663, 0.06626887562918764, 0.03550118337277909, 0.04426934642761981]\n"
     ]
    }
   ],
   "source": [
    "gate_01 = []\n",
    "for i in range(len(df_train)):\n",
    "    fsc1 = np.array(df_train.iloc[i,8]).flatten()  # Remove [i] index\n",
    "    ssc1 = np.array(df_train.iloc[i,9]).flatten()  # Remove [i] index\n",
    "    cd451 = np.array(df_train.iloc[i,12]).flatten()  # Remove [i] index\n",
    "    \n",
    "    gate10001 = gate1(num_of_cells2[i], cd451, ssc1, SSC_thresH, SSC_thresL, CD45_thresH, CD45_thresL)  # Remove [i] index\n",
    "    gate_01.append(gate10001)\n",
    "\n",
    "gate_02 = []\n",
    "for i in range(len(df_train)):\n",
    "    fsc2 = np.array(df_train.iloc[i,8]).flatten()\n",
    "    ssc2 = np.array(df_train.iloc[i,9]).flatten()\n",
    "\n",
    "    gate_fsc = [fsc2[loc] for loc in gate_01[i]]\n",
    "    gate_ssc = [ssc2[loc] for loc in gate_01[i]]\n",
    "\n",
    "    gate_num_cell = len(gate_01)\n",
    "\n",
    "    gate20002 = gate2(len(gate_01[i]),gate_fsc,gate_ssc,FSC_thres,SSC_thres)\n",
    "    gate_02.append(gate20002)\n",
    "\n",
    "blast_ratio2 = []\n",
    "for i in range(len(df_train)):\n",
    "    ratio = len(gate_02[i])/(num_of_cells2[i])\n",
    "    blast_ratio2.append(ratio)\n",
    "\n",
    "print(blast_ratio2)"
   ]
  },
  {
   "cell_type": "code",
   "execution_count": 10,
   "metadata": {},
   "outputs": [
    {
     "name": "stdout",
     "output_type": "stream",
     "text": [
      "[29999, 29999, 29999, 29999, 29999, 29999, 29999, 29999, 29999, 29999, 29999, 29999, 29999, 24187, 29999, 28759, 29999, 29999, 29999, 29999, 29999, 29999, 29999, 29999, 23958, 29999, 29999, 29999, 29999, 29405, 29999, 29999, 29999, 29999, 29999, 29999, 29999, 29999, 29999, 29999, 29999, 29999, 29999, 29999, 13261, 29999, 29999, 29999, 29999, 29999, 29482, 29999, 29999, 29999, 29999, 29999, 29999, 29999, 29999, 29999, 29999, 29999, 29999, 29999, 29999, 29999, 14133, 29999, 29999, 29999, 29999, 29999, 29999, 29999, 29999, 29999, 29999, 29999, 29999, 29999, 29999, 29999, 29999, 29999, 29999, 29999, 29999, 27958, 29999, 29999, 29999, 29999, 17386, 29999, 29999, 29999, 29999, 29999, 29999, 29999, 29999, 29999, 29999, 29999, 29999, 29999, 29999, 29999, 29999, 29999, 29999, 29999, 29999, 29999, 49999, 29999, 29999, 29999, 29999, 29999, 29999, 29999, 29999, 29999, 29999, 29999, 29999, 29999, 17514, 29999, 29999, 29999, 29999, 29999, 29999, 29999, 29999, 29999, 29999, 29999, 29999, 9999, 29999, 29999, 29999, 29999, 9999, 29999, 29999, 13758, 29999, 29999, 49999, 29999, 29999, 17942, 29999, 27174, 29999, 29999, 29999, 29999, 9999, 9999, 29999, 29999, 29999, 29999, 29999, 27085, 29999, 29999, 29999, 12290, 29999, 29999, 29999, 29999, 29999, 29999, 26400]\n"
     ]
    }
   ],
   "source": [
    "num_of_cells3 = []  # Initialize an empty list to store the number of cells for each patient\n",
    "\n",
    "# Iterate over each row (patient) in df_train\n",
    "for i in range(len(df_train)):\n",
    "    # Get the number of cells for the current patient (assuming it's in the second column)\n",
    "    cells_count = len(np.array(df_train.iloc[i, 15]).flatten())\n",
    "    \n",
    "    # Append the number of cells to the num_of_cells list\n",
    "    num_of_cells3.append(cells_count)\n",
    "\n",
    "# Now, num_of_cells contains the number of cells for each patient\n",
    "    \n",
    "print(num_of_cells3)"
   ]
  },
  {
   "cell_type": "code",
   "execution_count": 11,
   "metadata": {},
   "outputs": [
    {
     "name": "stdout",
     "output_type": "stream",
     "text": [
      "[0.07660255341844728, 0.05093503116770559, 0.06010200340011334, 0.07240241341378045, 0.04930164338811294, 0.06996899896663222, 0.07403580119337311, 0.07260242008066936, 0.06243541451381713, 0.056601886729557654, 0.07076902563418781, 0.04676822560752025, 0.06460215340511351, 0.0455203208335056, 0.07970265675522517, 0.05473069300045203, 0.06040201340044668, 0.07076902563418781, 0.05730191006366879, 0.0690356345211507, 0.06413547118237274, 0.05990199673322444, 0.06436881229374312, 0.07466915563852128, 0.04286668336255113, 0.06596886562885429, 0.06690223007433581, 0.06936897896596553, 0.06956898563285444, 0.0651589865669104, 0.06370212340411346, 0.05716857228574286, 0.05356845228174272, 0.040868028934297806, 0.058735291176372544, 0.06970232341078036, 0.04953498449948331, 0.0804026800893363, 0.038967965598853294, 0.07220240674689156, 0.059435314510483686, 0.0966365545518184, 0.06676889229640988, 0.05096836561218707, 0.040494683658849256, 0.0395346511550385, 0.07343578119270643, 0.08310277009233641, 0.05343511450381679, 0.057101903396779896, 0.059154738484499016, 0.06590219673989132, 0.07090236341211374, 0.04963498783292777, 0.07813593786459548, 0.05200173339111304, 0.1101370045668189, 0.044768158938631286, 0.061768725624187476, 0.060335344511483716, 0.054435147838261276, 0.062702090069669, 0.050668355611853726, 0.04210140338011267, 0.057101903396779896, 0.07820260675355845, 0.05625132668223307, 0.051001700056668556, 0.07110237007900264, 0.06816893896463215, 0.0630687689589653, 0.0634354478482616, 0.06586886229540985, 0.06226874229140971, 0.05136837894596487, 0.06116870562352079, 0.053168438947964934, 0.05213507116903897, 0.06426880896029867, 0.05776859228640955, 0.0709690323010767, 0.05530184339477982, 0.060935364512150404, 0.0725357511917064, 0.062368745624854165, 0.05656855228507617, 0.08440281342711424, 0.05722870019314686, 0.09053635121170706, 0.044134804493483115, 0.05713523784126138, 0.04886829560985366, 0.06459220062118946, 0.0642354745158172, 0.06716890563018767, 0.054968498949965, 0.08303610120337344, 0.07256908563618787, 0.05606853561785393, 0.05946864895496517, 0.06896896563218774, 0.0792693089769659, 0.05080169338977966, 0.07356911897063236, 0.09366978899296644, 0.05850195006500217, 0.07196906563552119, 0.05810193673122437, 0.06526884229474315, 0.06883562785426181, 0.04966832227740925, 0.05463515450515017, 0.07543584786159539, 0.057501916730557684, 0.07354147082941659, 0.06230207673589119, 0.07976932564418814, 0.06736891229707657, 0.08076935897863262, 0.0675022500750025, 0.048034934497816595, 0.07123570785692857, 0.04540151338377946, 0.06830227674255808, 0.06453548451615054, 0.08423614120470682, 0.06953565118837295, 0.06103536784559485, 0.03477218225419664, 0.057368578952631755, 0.05950198339944665, 0.0798359945331511, 0.06620220674022467, 0.08556951898396613, 0.033701123370779025, 0.06766892229740991, 0.06593553118437281, 0.04873495783192773, 0.056268542284742824, 0.05853528450948365, 0.06083536117870596, 0.0411041104110411, 0.06263542118070603, 0.057868595619853996, 0.05170172339077969, 0.06776892563085436, 0.049304930493049307, 0.07553585119503983, 0.045868195606520216, 0.043610989969472304, 0.06043534784492816, 0.07400246674889163, 0.07176143522870457, 0.05483516117203907, 0.04196806560218674, 0.07039349013487906, 0.0599686656221874, 0.05247663207477736, 0.07186906230207674, 0.054901830061002035, 0.07626920897363246, 0.05896863228774293, 0.05310531053105311, 0.059605960596059604, 0.05000166672222407, 0.08266942231407713, 0.07236907896929898, 0.06643554785159506, 0.07210240341344712, 0.04397267860439358, 0.05816860562018734, 0.04703490116337211, 0.06246874895829861, 0.0691619202603743, 0.045101503383446116, 0.08860295343178105, 0.05570185672855762, 0.06373545784859495, 0.06316877229240975, 0.0675022500750025, 0.048295454545454544]\n"
     ]
    }
   ],
   "source": [
    "gate_001 = []\n",
    "for i in range(len(df_train)):\n",
    "    fsc1 = np.array(df_train.iloc[i,15]).flatten()  # Remove [i] index\n",
    "    ssc1 = np.array(df_train.iloc[i,16]).flatten()  # Remove [i] index\n",
    "    cd451 = np.array(df_train.iloc[i,19]).flatten()  # Remove [i] index\n",
    "    \n",
    "    gate10001 = gate1(num_of_cells3[i], cd451, ssc1, SSC_thresH, SSC_thresL, CD45_thresH, CD45_thresL)  # Remove [i] index\n",
    "    gate_001.append(gate10001)\n",
    "\n",
    "gate_002 = []\n",
    "for i in range(len(df_train)):\n",
    "    fsc2 = np.array(df_train.iloc[i,15]).flatten()\n",
    "    ssc2 = np.array(df_train.iloc[i,16]).flatten()\n",
    "\n",
    "    gate_fsc = [fsc2[loc] for loc in gate_001[i]]\n",
    "    gate_ssc = [ssc2[loc] for loc in gate_001[i]]\n",
    "\n",
    "    gate_num_cell = len(gate_001)\n",
    "\n",
    "    gate20002 = gate2(len(gate_001[i]),gate_fsc,gate_ssc,FSC_thres,SSC_thres)\n",
    "    gate_002.append(gate20002)\n",
    "\n",
    "blast_ratio3 = []\n",
    "for i in range(len(df_train)):\n",
    "    ratio = len(gate_002[i])/(num_of_cells3[i])\n",
    "    blast_ratio3.append(ratio)\n",
    "\n",
    "print(blast_ratio3)"
   ]
  },
  {
   "cell_type": "code",
   "execution_count": 12,
   "metadata": {},
   "outputs": [
    {
     "name": "stdout",
     "output_type": "stream",
     "text": [
      "[29999, 29999, 29999, 29999, 29999, 29999, 29999, 29999, 29999, 29999, 29999, 29999, 29999, 18239, 29999, 23010, 29999, 29999, 29999, 29999, 29999, 29999, 29999, 29999, 21101, 29999, 29999, 29999, 29999, 27909, 29999, 29999, 29999, 29999, 29999, 29999, 29999, 29999, 29629, 29999, 29999, 29999, 29999, 29999, 13413, 29999, 29999, 29999, 29999, 29999, 25143, 29999, 29999, 29999, 29999, 29999, 29999, 29999, 29999, 29999, 29999, 29999, 29999, 29999, 29999, 29999, 16209, 29999, 29999, 29999, 29999, 29999, 29999, 29999, 29999, 29999, 29999, 29999, 29999, 29999, 29999, 29999, 29999, 29999, 29999, 29999, 29999, 25379, 29999, 29999, 29999, 29999, 17683, 29999, 29999, 29999, 29999, 29999, 29999, 29999, 29999, 29999, 29999, 29999, 29999, 29999, 29999, 29999, 29999, 29999, 29999, 29999, 29999, 29999, 49999, 29999, 29999, 29999, 29999, 29999, 24126, 29999, 29999, 29999, 29999, 29999, 29999, 29999, 17036, 29999, 29999, 29999, 29999, 29999, 29999, 29999, 29999, 29999, 29999, 29999, 29999, 9999, 29999, 29999, 29999, 29999, 9999, 29999, 29999, 13750, 29999, 29999, 49999, 29999, 29999, 16993, 29999, 26810, 29999, 29999, 29999, 29999, 9999, 9999, 29999, 29999, 29999, 29999, 29999, 22852, 29999, 29999, 29999, 12257, 29999, 29999, 29999, 29999, 29999, 29999, 22550]\n"
     ]
    }
   ],
   "source": [
    "num_of_cellsx = []  # Initialize an empty list to store the number of cells for each patient\n",
    "\n",
    "# Iterate over each row (patient) in df_train\n",
    "for i in range(len(df_train)):\n",
    "    # Get the number of cells for the current patient (assuming it's in the second column)\n",
    "    cells_count = len(np.array(df_train.iloc[i, 22]).flatten())\n",
    "    \n",
    "    # Append the number of cells to the num_of_cells list\n",
    "    num_of_cellsx.append(cells_count)\n",
    "\n",
    "# Now, num_of_cells contains the number of cells for each patient\n",
    "    \n",
    "print(num_of_cellsx)"
   ]
  },
  {
   "cell_type": "code",
   "execution_count": 13,
   "metadata": {},
   "outputs": [
    {
     "name": "stdout",
     "output_type": "stream",
     "text": [
      "[0.04190139671322377, 0.05326844228140938, 0.04140138004600153, 0.04856828560952032, 0.03203440114670489, 0.04393479782659422, 0.03263442114737158, 0.05170172339077969, 0.048501616720557354, 0.03843461448714957, 0.041501383379445984, 0.03920130671022368, 0.043968132271075704, 0.05060584461867427, 0.01766725557518584, 0.055193394176445025, 0.04890163005433514, 0.054435147838261276, 0.10690356345211507, 0.03190106336877896, 0.04183472782426081, 0.061902063402113405, 0.0426347544918164, 0.03656788559618654, 0.034785081275768924, 0.028300943364778827, 0.03950131671055702, 0.051001700056668556, 0.028667622254075136, 0.045576695689562505, 0.027334244474815826, 0.03640121337377913, 0.05963532117737258, 0.045068168938964634, 0.03750125004166806, 0.03440114670489016, 0.04250141671389046, 0.03796793226440881, 0.0376995511154612, 0.05616853895129838, 0.035767858928630956, 0.0306676889229641, 0.04036801226707557, 0.039167972265742194, 0.08804890777603817, 0.04230141004700157, 0.0414680489349645, 0.029267642254741825, 0.04980166005533518, 0.09323644121470716, 0.040727041323628844, 0.040101336711223706, 0.02933431114370479, 0.035734524484149474, 0.04110137004566819, 0.041501383379445984, 0.04993499783326111, 0.03146771559051968, 0.046801560052001735, 0.03376779225974199, 0.0422347411580386, 0.03600120004000133, 0.04970165672189073, 0.041301376712557084, 0.051935064502150075, 0.04620154005133505, 0.05385896724042199, 0.024467482249408312, 0.025600853361778725, 0.03923464115470516, 0.04656821894063135, 0.032801093369778996, 0.05716857228574286, 0.046801560052001735, 0.04826827560918697, 0.027900930031001032, 0.03566785559518651, 0.0443681456048535, 0.0426347544918164, 0.03560118670622354, 0.039601320044001465, 0.05093503116770559, 0.03560118670622354, 0.059701990066335545, 0.04916830561018701, 0.04370145671522384, 0.045234841161372046, 0.052563142755821746, 0.013100436681222707, 0.04110137004566819, 0.032301076702556754, 0.047068235607853594, 0.06774868517785444, 0.016300543351445047, 0.04906830227674256, 0.05826860895363179, 0.04293476449214974, 0.04626820894029801, 0.04210140338011267, 0.04713490449681656, 0.04620154005133505, 0.06540218007266908, 0.04883496116537218, 0.02356745224840828, 0.028200940031334377, 0.05263508783626121, 0.04206806893563119, 0.06433547784926164, 0.0351011700390013, 0.04776825894196473, 0.025000833361112036, 0.05966865562185406, 0.02726757558585286, 0.05063502116737224, 0.04214084281685634, 0.04566818893963132, 0.04100136671222374, 0.05576852561752058, 0.0727024234141138, 0.04463482116070536, 0.0532620409516704, 0.04406813560452015, 0.037467915597186575, 0.03660122004066802, 0.044934831161038705, 0.03193439781326044, 0.03596786559551985, 0.03583452781759392, 0.04954214604367222, 0.05793526450881696, 0.05280176005866862, 0.03890129670989033, 0.0524684156138538, 0.046334877829260976, 0.04036801226707557, 0.039001300043334776, 0.029634321144038134, 0.04500150005000167, 0.03766792226407547, 0.03410113670455682, 0.048668288942964766, 0.0444044404440444, 0.06293543118103936, 0.03903463448781626, 0.04440148004933498, 0.036634554485149504, 0.044904490449044904, 0.05726857561918731, 0.04376812560418681, 0.049018181818181815, 0.056768558951965066, 0.04480149338311277, 0.07848156963139263, 0.038567952265075506, 0.04716823894129804, 0.05619961160477844, 0.048501616720557354, 0.026035061544199926, 0.02530084336144538, 0.0358678622620754, 0.043968132271075704, 0.05273509116970566, 0.0443044304430443, 0.039803980398039805, 0.051101703390113, 0.04113470449014967, 0.0459015300510017, 0.02170072335744525, 0.04516817227240908, 0.0488359880973219, 0.047234907830261005, 0.0349011633721124, 0.03873462448748292, 0.034021375540507465, 0.04530151005033501, 0.03846794893163105, 0.03750125004166806, 0.03570119003966799, 0.057501916730557684, 0.02210073669122304, 0.08864745011086475]\n"
     ]
    }
   ],
   "source": [
    "gate_x01 = []\n",
    "for i in range(len(df_train)):\n",
    "    fsc1 = np.array(df_train.iloc[i,22]).flatten()  # Remove [i] index\n",
    "    ssc1 = np.array(df_train.iloc[i,23]).flatten()  # Remove [i] index\n",
    "    cd451 = np.array(df_train.iloc[i,26]).flatten()  # Remove [i] index\n",
    "    \n",
    "    gate10001 = gate1(num_of_cellsx[i], cd451, ssc1, SSC_thresH, SSC_thresL, CD45_thresH, CD45_thresL)  # Remove [i] index\n",
    "    gate_x01.append(gate10001)\n",
    "\n",
    "gate_x02 = []\n",
    "for i in range(len(df_train)):\n",
    "    fsc2 = np.array(df_train.iloc[i,22]).flatten()\n",
    "    ssc2 = np.array(df_train.iloc[i,23]).flatten()\n",
    "\n",
    "    gate_fsc = [fsc2[loc] for loc in gate_x01[i]]\n",
    "    gate_ssc = [ssc2[loc] for loc in gate_x01[i]]\n",
    "\n",
    "    gate_num_cell = len(gate_x01)\n",
    "\n",
    "    gate20002 = gate2(len(gate_x01[i]),gate_fsc,gate_ssc,FSC_thres,SSC_thres)\n",
    "    gate_x02.append(gate20002)\n",
    "\n",
    "blast_ratiox3 = []\n",
    "for i in range(len(df_train)):\n",
    "    ratio = len(gate_x02[i])/(num_of_cellsx[i])\n",
    "    blast_ratiox3.append(ratio)\n",
    "\n",
    "print(blast_ratiox3)"
   ]
  },
  {
   "cell_type": "code",
   "execution_count": 14,
   "metadata": {},
   "outputs": [
    {
     "name": "stdout",
     "output_type": "stream",
     "text": [
      "[29999, 29999, 29999, 29999, 29999, 29999, 29999, 29999, 29999, 29999, 29999, 29999, 29999, 24873, 29999, 27704, 29999, 29999, 29999, 29999, 29999, 29999, 29999, 29999, 23079, 29999, 29999, 29999, 29999, 27418, 29999, 29999, 29999, 29999, 29999, 29999, 29999, 29999, 29999, 29999, 29999, 29999, 29999, 29999, 13492, 29999, 29999, 29999, 29999, 29999, 29850, 29999, 29999, 29999, 29999, 29999, 29999, 29999, 29999, 29999, 29999, 29999, 29999, 29999, 29999, 29999, 15273, 29999, 29999, 29999, 29999, 29999, 29999, 29999, 29999, 29999, 29999, 29999, 29999, 29999, 29999, 29999, 29999, 29999, 29999, 29999, 29999, 26954, 29999, 29999, 29999, 29999, 17448, 29999, 29999, 29999, 29999, 29999, 29999, 29999, 29999, 29999, 29999, 29999, 29999, 29999, 29999, 29999, 29999, 29999, 29999, 29999, 29999, 29999, 49999, 29999, 29999, 29999, 29999, 29999, 29939, 29999, 29999, 29999, 29999, 29999, 29999, 29999, 17402, 29999, 29999, 29999, 29999, 29999, 29999, 29999, 29999, 29999, 29999, 29999, 29999, 9999, 29999, 29999, 29999, 29999, 9999, 29999, 29999, 13643, 29999, 29999, 49999, 29999, 29999, 17045, 29999, 27176, 29999, 29999, 29999, 29999, 9999, 9999, 29999, 29999, 29999, 29999, 29999, 21262, 29999, 29999, 29999, 12173, 29999, 29999, 29999, 29999, 29999, 29999, 27439]\n"
     ]
    }
   ],
   "source": [
    "num_of_cells4 = []  # Initialize an empty list to store the number of cells for each patient\n",
    "\n",
    "# Iterate over each row (patient) in df_train\n",
    "for i in range(len(df_train)):\n",
    "    # Get the number of cells for the current patient (assuming it's in the second column)\n",
    "    cells_count = len(np.array(df_train.iloc[i, 29]).flatten())\n",
    "    \n",
    "    # Append the number of cells to the num_of_cells list\n",
    "    num_of_cells4.append(cells_count)\n",
    "\n",
    "# Now, num_of_cells contains the number of cells for each patient\n",
    "    \n",
    "print(num_of_cells4)"
   ]
  },
  {
   "cell_type": "code",
   "execution_count": 15,
   "metadata": {},
   "outputs": [
    {
     "name": "stdout",
     "output_type": "stream",
     "text": [
      "[0.07186906230207674, 0.033101103370112336, 0.057835261175372514, 0.06603553451781725, 0.08300276675889197, 0.11110370345678189, 0.0698356611887063, 0.0700023334111137, 0.04903496783226108, 0.04796826560885363, 0.048501616720557354, 0.05546851561718724, 0.05756858561952065, 0.058416757126201105, 0.08926964232141071, 0.04389257868899798, 0.04286809560318677, 0.07536917897263243, 0.05820194006466882, 0.06193539784659489, 0.05966865562185406, 0.05453515117170572, 0.09793659788659621, 0.05123504116803893, 0.027947484726374625, 0.06250208340278009, 0.07363578785959532, 0.08463615453848461, 0.08263608786959566, 0.03380990590123277, 0.05543518117270576, 0.053635121170705694, 0.03970132337744591, 0.05220174005800193, 0.05180172672422414, 0.09330311010367012, 0.05233507783592786, 0.09366978899296644, 0.04423480782692756, 0.05480182672755759, 0.0763692123070769, 0.11813727124237475, 0.06593553118437281, 0.041934731157705255, 0.03646605395790098, 0.04953498449948331, 0.0698023267442248, 0.07276909230307677, 0.06250208340278009, 0.05890196339877996, 0.0704857621440536, 0.05686856228540951, 0.09543651455048502, 0.06183539451315044, 0.08056935231174372, 0.08190273009100303, 0.06293543118103936, 0.054068468948964964, 0.04560152005066836, 0.06513550451681722, 0.0713690456348545, 0.06246874895829861, 0.05106836894563152, 0.06713557118570619, 0.06953565118837295, 0.07563585452848429, 0.03011850978851568, 0.0507350245008167, 0.057668588952965096, 0.06636887896263209, 0.06206873562452082, 0.08066935564518818, 0.06610220340678023, 0.05756858561952065, 0.0459015300510017, 0.051135037834594485, 0.0636354545151505, 0.07180239341311377, 0.09310310343678123, 0.08586952898429948, 0.06076869228974299, 0.04736824560818694, 0.08110270342344744, 0.07163572119070635, 0.062035401180039335, 0.06360212007066902, 0.06570219007300243, 0.06511092973213624, 0.11203706790226341, 0.057701923397446585, 0.06450215007166905, 0.05590186339544651, 0.06768684089867033, 0.0802360078669289, 0.07400246674889163, 0.06820227340911364, 0.08290276342544751, 0.05903530117670589, 0.07610253675122504, 0.06503550118337278, 0.06716890563018767, 0.06953565118837295, 0.040434681156038536, 0.07933597786592886, 0.11510383679455982, 0.05610187006233541, 0.06753558451948398, 0.06810227007566919, 0.04823494116470549, 0.060802026734224475, 0.06960232007733591, 0.055501850061668724, 0.07680256008533617, 0.05466848894963165, 0.06354127082541651, 0.05006833561118704, 0.078102603420114, 0.06323544118137271, 0.06393546451548385, 0.0896696556551885, 0.04512508767827917, 0.048501616720557354, 0.03206773559118637, 0.1029700990033001, 0.11560385346178206, 0.09523650788359612, 0.13157105236841227, 0.09323644121470716, 0.054706355591311345, 0.05296843228107603, 0.045701523384112805, 0.0677022567418914, 0.06396879895996534, 0.07373579119303977, 0.08563618787292909, 0.06563552118403947, 0.06410213673789127, 0.04846828227607587, 0.06796893229774326, 0.11413713790459681, 0.06450215007166905, 0.0427042704270427, 0.07650255008500283, 0.0794693156438548, 0.050368345611520385, 0.06836894563152104, 0.10631063106310631, 0.06396879895996534, 0.06656888562952099, 0.07373744777541597, 0.055801860062002065, 0.0893029767658922, 0.07324146482929658, 0.056268542284742824, 0.040068002266742224, 0.03725432678204752, 0.0677022567418914, 0.05795554901383574, 0.11527050901696723, 0.07026900896696557, 0.06316877229240975, 0.045868195606520216, 0.05900590059005901, 0.086008600860086, 0.040701356711890395, 0.10213673789126304, 0.04813493783126104, 0.0690689689656322, 0.09980332677755925, 0.05356974884770953, 0.06563552118403947, 0.060335344511483716, 0.048501616720557354, 0.02341247022098086, 0.060202006733557786, 0.07813593786459548, 0.05963532117737258, 0.07196906563552119, 0.06780226007533584, 0.06586886229540985, 0.03385691898392799]\n"
     ]
    }
   ],
   "source": [
    "gate_101 = []\n",
    "for i in range(len(df_train)):\n",
    "    fsc1 = np.array(df_train.iloc[i,29]).flatten()  # Remove [i] index\n",
    "    ssc1 = np.array(df_train.iloc[i,30]).flatten()  # Remove [i] index\n",
    "    cd451 = np.array(df_train.iloc[i,33]).flatten()  # Remove [i] index\n",
    "    \n",
    "    gate10001 = gate1(num_of_cells4[i], cd451, ssc1, SSC_thresH, SSC_thresL, CD45_thresH, CD45_thresL)  # Remove [i] index\n",
    "    gate_101.append(gate10001)\n",
    "\n",
    "gate_202 = []\n",
    "for i in range(len(df_train)):\n",
    "    fsc2 = np.array(df_train.iloc[i,29]).flatten()\n",
    "    ssc2 = np.array(df_train.iloc[i,30]).flatten()\n",
    "\n",
    "    gate_fsc = [fsc2[loc] for loc in gate_101[i]]\n",
    "    gate_ssc = [ssc2[loc] for loc in gate_101[i]]\n",
    "\n",
    "    gate_num_cell = len(gate_101)\n",
    "\n",
    "    gate20002 = gate2(len(gate_101[i]),gate_fsc,gate_ssc,FSC_thres,SSC_thres)\n",
    "    gate_202.append(gate20002)\n",
    "\n",
    "blast_ratio4 = []\n",
    "for i in range(len(df_train)):\n",
    "    ratio = len(gate_202[i])/(num_of_cells4[i])\n",
    "    blast_ratio4.append(ratio)\n",
    "\n",
    "print(blast_ratio4)\n",
    "# 5 = [33]\n",
    "# 6 = [40]\n",
    "# 8 = [54]"
   ]
  },
  {
   "cell_type": "code",
   "execution_count": 16,
   "metadata": {},
   "outputs": [
    {
     "name": "stdout",
     "output_type": "stream",
     "text": [
      "[29999, 29999, 29999, 29999, 29999, 29999, 29999, 29999, 29999, 29999, 29999, 29999, 29999, 21262, 29999, 26099, 29999, 29999, 29999, 29999, 29999, 29999, 29999, 29999, 21429, 29999, 29999, 29999, 29999, 28117, 29999, 29999, 29999, 29999, 29999, 29999, 29999, 29999, 29999, 29999, 29999, 29999, 29999, 29999, 13915, 29999, 29999, 29999, 29999, 29999, 25316, 29999, 29999, 29999, 29999, 29999, 29999, 29999, 29999, 29999, 29999, 29999, 29999, 29999, 26774, 29999, 16530, 29999, 29999, 29999, 29999, 29999, 29999, 29999, 29999, 29999, 29999, 29999, 29999, 29999, 29999, 29999, 29999, 29999, 29999, 29999, 29999, 26609, 29999, 29999, 29999, 29999, 16931, 29999, 29999, 29999, 29999, 29999, 29999, 29999, 29999, 29999, 29999, 29999, 29999, 29999, 29999, 29999, 29999, 29999, 29999, 29999, 29999, 29999, 49999, 29999, 29999, 29999, 29999, 29999, 27637, 29999, 29999, 29999, 29999, 29999, 29999, 29999, 18791, 29999, 29999, 29999, 29999, 29999, 29999, 29999, 29999, 29999, 29999, 29999, 29999, 9999, 29999, 29999, 29999, 29999, 9999, 29999, 29999, 15352, 29999, 29999, 49999, 29999, 29999, 20237, 29999, 25994, 29999, 29999, 29999, 29999, 9999, 9999, 29999, 29999, 29999, 29999, 29999, 26080, 29999, 29999, 29999, 12976, 29999, 29999, 29999, 29999, 29999, 29999, 29658]\n"
     ]
    }
   ],
   "source": [
    "num_of_cells5 = []  # Initialize an empty list to store the number of cells for each patient\n",
    "\n",
    "# Iterate over each row (patient) in df_train\n",
    "for i in range(len(df_train)):\n",
    "    # Get the number of cells for the current patient (assuming it's in the second column)\n",
    "    cells_count = len(np.array(df_train.iloc[i, 36]).flatten())\n",
    "    \n",
    "    # Append the number of cells to the num_of_cells list\n",
    "    num_of_cells5.append(cells_count)\n",
    "\n",
    "# Now, num_of_cells contains the number of cells for each patient\n",
    "    \n",
    "print(num_of_cells5)"
   ]
  },
  {
   "cell_type": "code",
   "execution_count": 17,
   "metadata": {},
   "outputs": [
    {
     "name": "stdout",
     "output_type": "stream",
     "text": [
      "[0.055201840061335376, 0.039001300043334776, 0.040234674489149636, 0.0733024434147805, 0.06070202340078003, 0.05726857561918731, 0.07740258008600287, 0.0671022367412247, 0.0486016200540018, 0.06836894563152104, 0.06370212340411346, 0.033434447814927166, 0.04870162338744625, 0.0792493650644342, 0.08350278342611421, 0.0842561017663512, 0.047401580052668424, 0.045234841161372046, 0.047068235607853594, 0.0692356411880396, 0.06043534784492816, 0.05343511450381679, 0.03263442114737158, 0.032801093369778996, 0.05730552055625554, 0.04716823894129804, 0.0626687556251875, 0.05420180672689089, 0.09166972232407747, 0.04833374826617349, 0.061435381179372646, 0.0503350111670389, 0.023367445581519385, 0.07446914897163238, 0.04333477782592753, 0.06456881896063202, 0.04703490116337211, 0.09140304676822561, 0.03983466115537185, 0.05383512783759459, 0.054901830061002035, 0.09010300343344778, 0.05310177005900197, 0.042568085602853425, 0.02500898311174991, 0.048801626720890695, 0.0634687822927431, 0.04403480116003867, 0.0648021600720024, 0.05243508116937231, 0.06288513193237479, 0.034934497816593885, 0.05693523117437248, 0.0669355645188173, 0.05103503450115004, 0.05523517450581686, 0.07043568118937298, 0.04280142671422381, 0.056001866728890966, 0.050368345611520385, 0.06830227674255808, 0.05253508450281676, 0.05376845894863162, 0.04036801226707557, 0.020430268170613282, 0.07410247008233607, 0.0514216575922565, 0.0503350111670389, 0.03360112003733458, 0.06873562452081736, 0.05973532451081703, 0.06396879895996534, 0.05090169672322411, 0.04566818893963132, 0.050035001166705555, 0.04013467115570519, 0.049001633387779596, 0.05856861895396513, 0.04376812560418681, 0.058735291176372544, 0.08776959231974399, 0.05116837227907597, 0.06793559785326178, 0.07846928230941032, 0.05630187672922431, 0.06650221674055802, 0.05680189339644655, 0.08711338269006727, 0.07673589119637321, 0.04386812893763126, 0.047234907830261005, 0.039334644488149606, 0.06874963085464532, 0.0642021400713357, 0.04910163672122404, 0.06843561452048402, 0.05700190006333544, 0.059435314510483686, 0.06226874229140971, 0.03766792226407547, 0.07150238341278042, 0.0405013500450015, 0.03436781226040868, 0.05870195673189106, 0.10457015233841128, 0.05720190673022434, 0.040401346711557054, 0.043668122270742356, 0.05330177672589086, 0.06146871562385413, 0.05816860562018734, 0.06736891229707657, 0.08726957565252175, 0.054268475615853864, 0.033620672413448266, 0.05480182672755759, 0.05896863228774293, 0.046334877829260976, 0.06070202340078003, 0.06570219007300243, 0.07077468610920143, 0.05830194339811327, 0.04780159338644621, 0.0817693923130771, 0.05163505450181673, 0.05506850228340945, 0.06463548784959498, 0.04230141004700157, 0.04236070459262413, 0.048801626720890695, 0.05123504116803893, 0.05063502116737224, 0.06226874229140971, 0.08646954898496617, 0.019300643354778494, 0.05453515117170572, 0.044901496716557215, 0.04183472782426081, 0.06660222007400246, 0.06713557118570619, 0.0567018900630021, 0.05140514051405141, 0.04983499449981666, 0.05680189339644655, 0.045568185606186876, 0.0599686656221874, 0.10541054105410541, 0.06436881229374312, 0.04916830561018701, 0.05217561229807191, 0.059868662288742956, 0.07986932897763259, 0.0759015180303606, 0.04470149004966832, 0.04983499449981666, 0.053911152838859513, 0.045068168938964634, 0.06951604216357621, 0.07800260008666955, 0.06876895896529885, 0.0709690323010767, 0.04230141004700157, 0.09020902090209021, 0.0968096809680968, 0.0422347411580386, 0.04823494116470549, 0.05266842228074269, 0.052235074502483415, 0.06333544451481717, 0.04635736196319019, 0.04746824894163139, 0.057535251175039166, 0.057035234507816925, 0.07536991368680641, 0.05883529450981699, 0.07220240674689156, 0.06323544118137271, 0.061768725624187476, 0.06100203340111337, 0.06153538451281709, 0.03324566727358554]\n"
     ]
    }
   ],
   "source": [
    "gate_1001 = []\n",
    "for i in range(len(df_train)):\n",
    "    fsc1 = np.array(df_train.iloc[i,36]).flatten()  # Remove [i] index\n",
    "    ssc1 = np.array(df_train.iloc[i,37]).flatten()  # Remove [i] index\n",
    "    cd451 = np.array(df_train.iloc[i,40]).flatten()  # Remove [i] index\n",
    "    \n",
    "    gate10001 = gate1(num_of_cells5[i], cd451, ssc1, SSC_thresH, SSC_thresL, CD45_thresH, CD45_thresL)  # Remove [i] index\n",
    "    gate_1001.append(gate10001)\n",
    "\n",
    "gate_2002 = []\n",
    "for i in range(len(df_train)):\n",
    "    fsc2 = np.array(df_train.iloc[i,36]).flatten()\n",
    "    ssc2 = np.array(df_train.iloc[i,37]).flatten()\n",
    "\n",
    "    gate_fsc = [fsc2[loc] for loc in gate_1001[i]]\n",
    "    gate_ssc = [ssc2[loc] for loc in gate_1001[i]]\n",
    "\n",
    "    gate_num_cell = len(gate_1001)\n",
    "\n",
    "    gate20002 = gate2(len(gate_1001[i]),gate_fsc,gate_ssc,FSC_thres,SSC_thres)\n",
    "    gate_2002.append(gate20002)\n",
    "\n",
    "blast_ratio5 = []\n",
    "for i in range(len(df_train)):\n",
    "    ratio = len(gate_2002[i])/(num_of_cells5[i])\n",
    "    blast_ratio5.append(ratio)\n",
    "\n",
    "print(blast_ratio5)\n",
    "# 5 = [33]\n",
    "# 6 = [40]\n",
    "# 8 = [54]"
   ]
  },
  {
   "cell_type": "code",
   "execution_count": 53,
   "metadata": {},
   "outputs": [
    {
     "name": "stdout",
     "output_type": "stream",
     "text": [
      "[29999, 29999, 29999, 29999, 29999, 29999, 29999, 29999, 29999, 29999, 29999, 29999, 29999, 19372, 29999, 27561, 29999, 29999, 29999, 29999, 29999, 29999, 29999, 29999, 22424, 29999, 29999, 29999, 29999, 29105, 29999, 29999, 29999, 29999, 29999, 29999, 29999, 29999, 29999, 29999, 29999, 29999, 29999, 29999, 13583, 29999, 29999, 29999, 29999, 29999, 24992, 29999, 29999, 29999, 29999, 29999, 29999, 29999, 29999, 29999, 29999, 29999, 29999, 29999, 27486, 29999, 15157, 29999, 29999, 29999, 29999, 29999, 29999, 29999, 29999, 29999, 29999, 29999, 29999, 29999, 29999, 29999, 29999, 29999, 29999, 29999, 29999, 20790, 29999, 29999, 29999, 29999, 15461, 29999, 29999, 29999, 29999, 29999, 29999, 29999, 29999, 29999, 29999, 29999, 29999, 29999, 29999, 29999, 29999, 29999, 29999, 29999, 29999, 29999, 49999, 29999, 29999, 29999, 29999, 29999, 27488, 29999, 29999, 29999, 29999, 29999, 29999, 29999, 17530, 29999, 29999, 29999, 29999, 29999, 29999, 29999, 29999, 29999, 29999, 29999, 29999, 9999, 29999, 29999, 29999, 29999, 9999, 29999, 29999, 13847, 29999, 29999, 49999, 29999, 29999, 16812, 29999, 25304, 29999, 29999, 29999, 29999, 9999, 9999, 29999, 29999, 29999, 29999, 29999, 26296, 29999, 29999, 29999, 12090, 29999, 29999, 29999, 29999, 29999, 29999, 25412]\n"
     ]
    }
   ],
   "source": [
    "num_of_cellsx6 = []  # Initialize an empty list to store the number of cells for each patient\n",
    "\n",
    "# Iterate over each row (patient) in df_train\n",
    "for i in range(len(df_train)):\n",
    "    # Get the number of cells for the current patient (assuming it's in the second column)\n",
    "    cells_count = len(np.array(df_train.iloc[i, 43]).flatten())\n",
    "    \n",
    "    # Append the number of cells to the num_of_cells list\n",
    "    num_of_cellsx6.append(cells_count)\n",
    "\n",
    "# Now, num_of_cells contains the number of cells for each patient\n",
    "    \n",
    "print(num_of_cellsx6)"
   ]
  },
  {
   "cell_type": "code",
   "execution_count": 19,
   "metadata": {},
   "outputs": [
    {
     "name": "stdout",
     "output_type": "stream",
     "text": [
      "[0.058768625620854026, 0.05213507116903897, 0.06253541784726158, 0.059435314510483686, 0.05530184339477982, 0.046301543384779494, 0.05560185339511317, 0.06416880562685423, 0.0599686656221874, 0.05093503116770559, 0.07643588119603986, 0.04886829560985366, 0.07043568118937298, 0.04651042742102003, 0.07323577452581753, 0.07169551177388339, 0.06613553785126171, 0.06753558451948398, 0.07660255341844728, 0.07276909230307677, 0.06283542784759492, 0.054068468948964964, 0.07410247008233607, 0.053468448948298275, 0.05141812343917231, 0.05266842228074269, 0.06430214340478016, 0.06696889896329877, 0.0682689422980766, 0.030578938326747983, 0.05680189339644655, 0.06630221007366913, 0.07446914897163238, 0.05790193006433548, 0.06933564452148405, 0.04703490116337211, 0.04963498783292777, 0.06760225340844694, 0.0412680422680756, 0.06960232007733591, 0.051468382279409315, 0.06603553451781725, 0.05560185339511317, 0.040834694489816324, 0.09784289185010675, 0.0524684156138538, 0.08086936231207707, 0.07216907230241008, 0.06426880896029867, 0.07993599786659555, 0.08550736235595391, 0.05796859895329844, 0.07196906563552119, 0.057501916730557684, 0.08363612120404014, 0.07296909896996566, 0.06956898563285444, 0.07110237007900264, 0.061435381179372646, 0.06520217340578019, 0.05076835894529818, 0.06443548118270609, 0.051001700056668556, 0.04393479782659422, 0.05850251036891509, 0.08513617120570685, 0.09032130368806492, 0.04753491783059435, 0.05763525450848361, 0.062202073402446746, 0.08106936897896597, 0.053635121170705694, 0.06640221340711357, 0.06926897563252109, 0.05233507783592786, 0.0630687689589653, 0.04720157338577952, 0.04983499449981666, 0.06433547784926164, 0.06823560785359511, 0.07353578452615087, 0.04060135337844595, 0.06503550118337278, 0.08316943898129937, 0.07143571452381746, 0.05280176005866862, 0.08970299009966999, 0.05088985088985089, 0.10567018900630021, 0.0503350111670389, 0.061102036734557816, 0.0451348378279276, 0.05439492917663799, 0.06290209673655789, 0.07243574785826194, 0.052068402280076004, 0.08130271009033635, 0.07883596119870662, 0.056768558951965066, 0.06716890563018767, 0.06453548451615054, 0.09833661122037402, 0.05620187339577986, 0.08223607453581785, 0.07416913897129904, 0.05040168005600187, 0.07300243341444715, 0.05760192006400213, 0.07630254341811393, 0.07190239674655823, 0.05183506116870562, 0.06830227674255808, 0.081002700090003, 0.055501850061668724, 0.0749414988299766, 0.06543551451715057, 0.07606920230674356, 0.06320210673689124, 0.07986932897763259, 0.0661688722957432, 0.023937718277066356, 0.07710257008566952, 0.038834627820927364, 0.0634687822927431, 0.0692356411880396, 0.0900696689889663, 0.060035334511150375, 0.05460182006066869, 0.06839703365658871, 0.05353511783726124, 0.05310177005900197, 0.06590219673989132, 0.06173539117970599, 0.07130237674589153, 0.07073569118970632, 0.07400246674889163, 0.06166872229074302, 0.05263508783626121, 0.06070202340078003, 0.04580152671755725, 0.053935131171039034, 0.050805080508050805, 0.07480249341644722, 0.05716857228574286, 0.05243508116937231, 0.07403580119337311, 0.081008100810081, 0.07623587452915097, 0.05163505450181673, 0.12861991767169784, 0.05886862895429848, 0.057535251175039166, 0.08658173163463269, 0.05506850228340945, 0.0370345678189273, 0.060373542707589815, 0.06766892229740991, 0.021656655074296555, 0.051735057835261174, 0.05616853895129838, 0.0696356545218174, 0.05290176339211307, 0.0626062606260626, 0.066006600660066, 0.04753491783059435, 0.046168205606853564, 0.07366912230407681, 0.057035234507816925, 0.07226907563585452, 0.0600471554609066, 0.061068702290076333, 0.0476349211640388, 0.06493549784992833, 0.1424317617866005, 0.050868362278742627, 0.09050301676722558, 0.06803560118670622, 0.0823694123137438, 0.06580219340644688, 0.0696356545218174, 0.04301117582244609]\n"
     ]
    }
   ],
   "source": [
    "gate_1xx1 = []\n",
    "for i in range(len(df_train)):\n",
    "    fsc1 = np.array(df_train.iloc[i,43]).flatten()  # Remove [i] index\n",
    "    ssc1 = np.array(df_train.iloc[i,44]).flatten()  # Remove [i] index\n",
    "    cd451 = np.array(df_train.iloc[i,47]).flatten()  # Remove [i] index\n",
    "    \n",
    "    gate10001 = gate1(num_of_cellsx6[i], cd451, ssc1, SSC_thresH, SSC_thresL, CD45_thresH, CD45_thresL)  # Remove [i] index\n",
    "    gate_1xx1.append(gate10001)\n",
    "\n",
    "gate_2xx2 = []\n",
    "for i in range(len(df_train)):\n",
    "    fsc2 = np.array(df_train.iloc[i,43]).flatten()\n",
    "    ssc2 = np.array(df_train.iloc[i,44]).flatten()\n",
    "\n",
    "    gate_fsc = [fsc2[loc] for loc in gate_1xx1[i]]\n",
    "    gate_ssc = [ssc2[loc] for loc in gate_1xx1[i]]\n",
    "\n",
    "    gate_num_cell = len(gate_1xx1)\n",
    "\n",
    "    gate20002 = gate2(len(gate_1xx1[i]),gate_fsc,gate_ssc,FSC_thres,SSC_thres)\n",
    "    gate_2xx2.append(gate20002)\n",
    "\n",
    "blast_ratiox5 = []\n",
    "for i in range(len(df_train)):\n",
    "    ratio = len(gate_2xx2[i])/(num_of_cellsx6[i])\n",
    "    blast_ratiox5.append(ratio)\n",
    "\n",
    "print(blast_ratiox5)\n"
   ]
  },
  {
   "cell_type": "code",
   "execution_count": 20,
   "metadata": {},
   "outputs": [
    {
     "name": "stdout",
     "output_type": "stream",
     "text": [
      "[29999, 29999, 29999, 29999, 29999, 9999, 29999, 9999, 9999, 9999, 29999, 29999, 9999, 29060, 9999, 29999, 9999, 29999, 29999, 9999, 29999, 29999, 9999, 29999, 8165, 29999, 9999, 29999, 29999, 10228, 29999, 29999, 9999, 9999, 10751, 9999, 24063, 29999, 29999, 9999, 29999, 29999, 29999, 29999, 9999, 9999, 9999, 29999, 29849, 29999, 22067, 29999, 29999, 9999, 10623, 9999, 29999, 9999, 11054, 29999, 29999, 9999, 9999, 29999, 9999, 9999, 29999, 29999, 29999, 21759, 9999, 9999, 9999, 9999, 29999, 25471, 10283, 9999, 29999, 20607, 9999, 9999, 18684, 29999, 29999, 9999, 10506, 10963, 29999, 9999, 9999, 29999, 7490, 29999, 9999, 9999, 11775, 9999, 29999, 9999, 9999, 29999, 9999, 29999, 29999, 29999, 9999, 29999, 13439, 29999, 9999, 18017, 9999, 29999, 10280, 29999, 14283, 29999, 12187, 29999, 10099, 29999, 9999, 29999, 29999, 10320, 9999, 10492, 29999, 9999, 29999, 29999, 29999, 10048, 9999, 29999, 29999, 29999, 10094, 29999, 9999, 9999, 10264, 22468, 29999, 29999, 9999, 29999, 29999, 9999, 29999, 29999, 40608, 29999, 29999, 9999, 29999, 29999, 29999, 29999, 9999, 9999, 9999, 9999, 29999, 18815, 9999, 29999, 9999, 29999, 29999, 29999, 29999, 9999, 29999, 9999, 29999, 9999, 29999, 29999, 9999]\n"
     ]
    }
   ],
   "source": [
    "num_of_cells6 = []  # Initialize an empty list to store the number of cells for each patient\n",
    "\n",
    "# Iterate over each row (patient) in df_train\n",
    "for i in range(len(df_train)):\n",
    "    # Get the number of cells for the current patient (assuming it's in the second column)\n",
    "    cells_count = len(np.array(df_train.iloc[i, 50]).flatten())\n",
    "    \n",
    "    # Append the number of cells to the num_of_cells list\n",
    "    num_of_cells6.append(cells_count)\n",
    "\n",
    "# Now, num_of_cells contains the number of cells for each patient\n",
    "    \n",
    "print(num_of_cells6)"
   ]
  },
  {
   "cell_type": "code",
   "execution_count": 54,
   "metadata": {},
   "outputs": [
    {
     "name": "stdout",
     "output_type": "stream",
     "text": [
      "[0.05953531784392813, 0.03770125670855695, 0.05636854561818727, 0.06763558785292843, 0.04440148004933498, 0.0241024102410241, 0.032134404480149335, 0.027002700270027002, 0.030203020302030203, 0.017201720172017203, 0.03796793226440881, 0.03803460115337178, 0.026302630263026303, 0.016207845836200965, 0.08400840084008401, 0.06606886896229874, 0.036103610361036105, 0.05390179672655755, 0.04386812893763126, 0.022902290229022904, 0.05656855228507617, 0.04000133337777926, 0.010501050105010502, 0.06440214673822461, 0.023147581139007962, 0.054068468948964964, 0.0159015901590159, 0.03903463448781626, 0.052701756725224175, 0.0825185764567853, 0.04876829227640921, 0.04266808893629788, 0.012801280128012802, 0.0241024102410241, 0.006883080643661055, 0.0166016601660166, 0.03362008062170137, 0.04450148338277943, 0.04160138671289043, 0.025402540254025403, 0.042734757825260844, 0.059235307843594785, 0.05353511783726124, 0.03640121337377913, 0.028902890289028902, 0.018801880188018802, 0.012801280128012802, 0.05483516117203907, 0.041408422392709976, 0.061102036734557816, 0.023564598722073685, 0.044468148938297945, 0.04730157671922398, 0.030503050305030505, 0.04838557846182811, 0.011901190119011902, 0.03986799559985333, 0.023502350235023502, 0.0370001809299801, 0.04846828227607587, 0.03410113670455682, 0.032803280328032806, 0.0423042304230423, 0.03710123670789026, 0.0134013401340134, 0.0349034903490349, 0.0860028667622254, 0.033401113370445684, 0.05233507783592786, 0.018567029734822372, 0.024302430243024302, 0.021702170217021702, 0.024302430243024302, 0.025002500250025, 0.04450148338277943, 0.07816732754897728, 0.11728094913935622, 0.011901190119011902, 0.05480182672755759, 0.005289464744989566, 0.0159015901590159, 0.019101910191019103, 0.05769642474844787, 0.053635121170705694, 0.058001933397779926, 0.024502450245024503, 0.008280982295830954, 0.0612058743044787, 0.05576852561752058, 0.026502650265026503, 0.030103010301030103, 0.04390146338211274, 0.08785046728971962, 0.06116870562352079, 0.021702170217021702, 0.032503250325032505, 0.021910828025477707, 0.0111011101110111, 0.06006866895563186, 0.025802580258025804, 0.030303030303030304, 0.05990199673322444, 0.0268026802680268, 0.04720157338577952, 0.05343511450381679, 0.05866862228740958, 0.018201820182018203, 0.07783592786426215, 0.005952823870823722, 0.039301310043668124, 0.0107010701070107, 0.014819337292557029, 0.010901090109010901, 0.04333477782592753, 0.0811284046692607, 0.04806826894229808, 0.02856542743121193, 0.059235307843594785, 0.11700992861245589, 0.0532351078369279, 0.05812456678879097, 0.04656821894063135, 0.035903590359035904, 0.034034467815593855, 0.06120204006800227, 0.16744186046511628, 0.032203220322032204, 0.0027640106747998474, 0.1037701256708557, 0.0193019301930193, 0.049001633387779596, 0.05340178005933531, 0.04390146338211274, 0.028960987261146497, 0.009100910091009102, 0.061068702290076333, 0.06010200340011334, 0.03996799893329778, 0.15444818704180702, 0.06290209673655789, 0.014601460146014602, 0.0367036703670367, 0.17283710054559626, 0.07628627381164323, 0.04620154005133505, 0.04143471449048301, 0.015001500150015001, 0.046801560052001735, 0.044734824494149804, 0.050905090509050906, 0.03443448114937164, 0.05026834227807594, 0.06092395587076438, 0.05120170672355745, 0.04466815560518684, 0.0483048304830483, 0.03906796893229774, 0.05293509783659455, 0.04220140671355712, 0.030234341144704822, 0.020602060206020602, 0.039803980398039805, 0.024502450245024503, 0.0186018601860186, 0.04696823227440915, 0.0030294977411639648, 0.0297029702970297, 0.03693456448548285, 0.014201420142014202, 0.079069302310077, 0.0426347544918164, 0.030601020034001135, 0.058468615620520685, 0.018101810181018103, 0.037734591153038434, 0.0373037303730373, 0.041034701156705225, 0.029302930293029304, 0.044134804493483115, 0.05276842561418714, 0.09550955095509552]\n"
     ]
    }
   ],
   "source": [
    "gate_111 = []\n",
    "for i in range(len(df_train)):\n",
    "    fsc1 = np.array(df_train.iloc[i,50]).flatten()  # Remove [i] index\n",
    "    ssc1 = np.array(df_train.iloc[i,51]).flatten()  # Remove [i] index\n",
    "    cd451 = np.array(df_train.iloc[i,54]).flatten()  # Remove [i] index\n",
    "    \n",
    "    gate10001 = gate1(num_of_cells6[i], cd451, ssc1, SSC_thresH, SSC_thresL, CD45_thresH, CD45_thresL)  # Remove [i] index\n",
    "    gate_111.append(gate10001)\n",
    "\n",
    "gate_222 = []\n",
    "for i in range(len(df_train)):\n",
    "    fsc2 = np.array(df_train.iloc[i,50]).flatten()\n",
    "    ssc2 = np.array(df_train.iloc[i,51]).flatten()\n",
    "\n",
    "    gate_fsc = [fsc2[loc] for loc in gate_111[i]]\n",
    "    gate_ssc = [ssc2[loc] for loc in gate_111[i]]\n",
    "\n",
    "    gate_num_cell = len(gate_111)\n",
    "\n",
    "    gate20002 = gate2(len(gate_111[i]),gate_fsc,gate_ssc,FSC_thres,SSC_thres)\n",
    "    gate_222.append(gate20002)\n",
    "\n",
    "blast_ratio6 = []\n",
    "for i in range(len(df_train)):\n",
    "    ratio = len(gate_222[i])/(num_of_cells6[i])\n",
    "    blast_ratio6.append(ratio)\n",
    "\n",
    "print(blast_ratio6)\n",
    "# 5 = [33]\n",
    "# 6 = [40]\n",
    "# 8 = [54]"
   ]
  },
  {
   "cell_type": "code",
   "execution_count": 22,
   "metadata": {},
   "outputs": [],
   "source": [
    "FSC_channel = [1, 8, 15, 22, 29, 36, 43, 50]\n",
    "SSC_channel = [2, 9, 16, 23, 30, 37, 44, 51]\n",
    "FITC_channel = [3, 10, 17, 24, 31, 38, 45, 52]\n",
    "PE_channel = [4, 11, 18, 25, 32, 39, 46, 53]\n",
    "CD45_channel = [5, 12, 19, 26, 33, 40, 47, 54]\n",
    "PC5_channel = [6, 13, 20, 27, 34, 41, 48, 55]\n",
    "PC7_channel = [7, 14, 21, 28, 35, 42, 49, 56]"
   ]
  },
  {
   "cell_type": "markdown",
   "metadata": {},
   "source": [
    "# OTHER TRAINING FEATURES"
   ]
  },
  {
   "cell_type": "code",
   "execution_count": 23,
   "metadata": {},
   "outputs": [],
   "source": [
    "#print(training_patients_df)\n",
    "\n",
    "training_results = training_patients_df.copy()\n",
    "\n",
    "training_results['Diagnosis'] = training_results['Diagnosis'].map({'aml': 1, 'normal': 0})\n",
    "\n",
    "#print(training_results)"
   ]
  },
  {
   "cell_type": "code",
   "execution_count": 24,
   "metadata": {},
   "outputs": [],
   "source": [
    "def calculate_ratio(df_train_med, CD45, FITC):\n",
    "    CD45_med2 = []\n",
    "    FITC_med2 = []\n",
    "\n",
    "    [CD45_med2.extend(sublist) for sublist in np.array(df_train_med.iloc[:, FSC_channel[CD45]])]\n",
    "    [FITC_med2.extend(sublist) for sublist in np.array(df_train_med.iloc[:, SSC_channel[FITC]])]\n",
    "\n",
    "    CD45_med2 = np.array(CD45_med2)\n",
    "    FITC_med2 = np.array(FITC_med2)\n",
    "\n",
    "    ratio2 = CD45_med2  #/ FITC_med2\n",
    "    ratio2 = ratio2.tolist()\n",
    "    \n",
    "    return ratio2\n",
    "\n",
    "ratio1 = calculate_ratio(df_train_med, 0, 0)\n",
    "ratio2 = calculate_ratio(df_train_med, 1, 1)\n",
    "ratio3 = calculate_ratio(df_train_med, 2, 2)\n",
    "ratio4 = calculate_ratio(df_train_med, 3, 3)\n",
    "ratio5 = calculate_ratio(df_train_med, 4, 4)\n",
    "ratio6 = calculate_ratio(df_train_med, 5, 5)\n",
    "ratio7 = calculate_ratio(df_train_med, 6, 6)\n",
    "ratio8 = calculate_ratio(df_train_med, 7, 7)"
   ]
  },
  {
   "cell_type": "code",
   "execution_count": 60,
   "metadata": {},
   "outputs": [],
   "source": [
    "def calculate_ratio2(df_train_med, CD45, channel):\n",
    "    CD45_med2 = []\n",
    "\n",
    "    [CD45_med2.extend(sublist) for sublist in np.array(df_train_med.iloc[:, channel[CD45]])]\n",
    "\n",
    "    CD45_med2 = np.array(CD45_med2)\n",
    "\n",
    "    ratio2 = CD45_med2  \n",
    "    ratio2 = ratio2.tolist()\n",
    "    \n",
    "    return ratio2\n",
    "\n",
    "num = 5\n",
    "\n",
    "fsc_6 =calculate_ratio2(df_train_med, num, FSC_channel)\n",
    "ssc_6 = calculate_ratio2(df_train_med, num, SSC_channel)\n",
    "pe_6 = calculate_ratio2(df_train_med, num, PE_channel)\n",
    "pc5_6 = calculate_ratio2(df_train_med, num, PC5_channel)\n",
    "pc7_6 = calculate_ratio2(df_train_med, num, PC7_channel)\n",
    "fitc_6 = calculate_ratio2(df_train_med, num, FITC_channel)"
   ]
  },
  {
   "cell_type": "markdown",
   "metadata": {},
   "source": [
    "# MACHINE LEARNING"
   ]
  },
  {
   "cell_type": "code",
   "execution_count": 550,
   "metadata": {},
   "outputs": [
    {
     "data": {
      "text/plain": [
       "' # Create Decision Tree classifer object\\nclf = DecisionTreeClassifier()\\n\\n# Train Decision Tree Classifer\\nclf = clf.fit(X_train,y_train)\\n\\n#Predict the response for test dataset\\ny_pred = clf.predict(X_test)\\n\\n# Model Accuracy, how often is the classifier correct?\\nprint(\"Accuracy:\",metrics.accuracy_score(y_test, y_pred)) '"
      ]
     },
     "execution_count": 550,
     "metadata": {},
     "output_type": "execute_result"
    }
   ],
   "source": [
    "from sklearn import metrics\n",
    "from sklearn.decomposition import PCA \n",
    "\n",
    "blast_data = { 'blast_ratio1': blast_ratio1,\n",
    "            'blast_ratio2': blast_ratio2,\n",
    "            'blast_ratio3': blast_ratiox3,\n",
    "            'blast_ratio4': blast_ratio3,\n",
    "            'blast_ratio5':blast_ratio4, \n",
    "            'blast_ratio6': blast_ratio5,\n",
    "            'blast_ratio7': blast_ratiox5,\n",
    "            'blast_ratio8':blast_ratio6, \n",
    "\n",
    "            'ratio1':ratio1, \n",
    "            'ratio2':ratio2,\n",
    "            'ratio3':ratio3,\n",
    "            'ratio4':ratio4,\n",
    "            'ratio5':ratio5,\n",
    "            'ratio6':ratio6,\n",
    "            'ratio7':ratio7,\n",
    "            'ratio8':ratio8, \n",
    "\n",
    "            'fsc_6': fsc_6,\n",
    "            'ssc_6': ssc_6, \n",
    "            'pe_6': pe_6, \n",
    "            'pc5_6': pc5_6,\n",
    "            'pc7_6': pc7_6,\n",
    "            'fitc_6':fitc_6\n",
    "\n",
    "            \n",
    "            } # please ignore my stupid naming conventions\n",
    "\n",
    "# use 1 3 7 \n",
    "# 22 features \n",
    "\n",
    "# Convert dictionary to DataFrame\n",
    "X = pd.DataFrame(blast_data)\n",
    "y = training_results['Diagnosis']\n",
    "\n",
    "pca_num = 10\n",
    "\n",
    "pca = PCA(n_components=pca_num)\n",
    "X2D = pca.fit_transform(X)\n",
    "\n",
    "# Split dataset into training set and test set\n",
    "X_train, X_test, y_train, y_test = train_test_split(X2D, y, test_size=0.25, random_state=42,stratify=y) #\n",
    "\n",
    "# 1 2 3 4 7\n",
    "\n",
    "\"\"\" # Create Decision Tree classifer object\n",
    "clf = DecisionTreeClassifier()\n",
    "\n",
    "# Train Decision Tree Classifer\n",
    "clf = clf.fit(X_train,y_train)\n",
    "\n",
    "#Predict the response for test dataset\n",
    "y_pred = clf.predict(X_test)\n",
    "\n",
    "# Model Accuracy, how often is the classifier correct?\n",
    "print(\"Accuracy:\",metrics.accuracy_score(y_test, y_pred)) \"\"\"\n",
    "#  pca: 13\n"
   ]
  },
  {
   "cell_type": "code",
   "execution_count": 551,
   "metadata": {},
   "outputs": [
    {
     "data": {
      "text/html": [
       "<style>#sk-container-id-25 {color: black;}#sk-container-id-25 pre{padding: 0;}#sk-container-id-25 div.sk-toggleable {background-color: white;}#sk-container-id-25 label.sk-toggleable__label {cursor: pointer;display: block;width: 100%;margin-bottom: 0;padding: 0.3em;box-sizing: border-box;text-align: center;}#sk-container-id-25 label.sk-toggleable__label-arrow:before {content: \"▸\";float: left;margin-right: 0.25em;color: #696969;}#sk-container-id-25 label.sk-toggleable__label-arrow:hover:before {color: black;}#sk-container-id-25 div.sk-estimator:hover label.sk-toggleable__label-arrow:before {color: black;}#sk-container-id-25 div.sk-toggleable__content {max-height: 0;max-width: 0;overflow: hidden;text-align: left;background-color: #f0f8ff;}#sk-container-id-25 div.sk-toggleable__content pre {margin: 0.2em;color: black;border-radius: 0.25em;background-color: #f0f8ff;}#sk-container-id-25 input.sk-toggleable__control:checked~div.sk-toggleable__content {max-height: 200px;max-width: 100%;overflow: auto;}#sk-container-id-25 input.sk-toggleable__control:checked~label.sk-toggleable__label-arrow:before {content: \"▾\";}#sk-container-id-25 div.sk-estimator input.sk-toggleable__control:checked~label.sk-toggleable__label {background-color: #d4ebff;}#sk-container-id-25 div.sk-label input.sk-toggleable__control:checked~label.sk-toggleable__label {background-color: #d4ebff;}#sk-container-id-25 input.sk-hidden--visually {border: 0;clip: rect(1px 1px 1px 1px);clip: rect(1px, 1px, 1px, 1px);height: 1px;margin: -1px;overflow: hidden;padding: 0;position: absolute;width: 1px;}#sk-container-id-25 div.sk-estimator {font-family: monospace;background-color: #f0f8ff;border: 1px dotted black;border-radius: 0.25em;box-sizing: border-box;margin-bottom: 0.5em;}#sk-container-id-25 div.sk-estimator:hover {background-color: #d4ebff;}#sk-container-id-25 div.sk-parallel-item::after {content: \"\";width: 100%;border-bottom: 1px solid gray;flex-grow: 1;}#sk-container-id-25 div.sk-label:hover label.sk-toggleable__label {background-color: #d4ebff;}#sk-container-id-25 div.sk-serial::before {content: \"\";position: absolute;border-left: 1px solid gray;box-sizing: border-box;top: 0;bottom: 0;left: 50%;z-index: 0;}#sk-container-id-25 div.sk-serial {display: flex;flex-direction: column;align-items: center;background-color: white;padding-right: 0.2em;padding-left: 0.2em;position: relative;}#sk-container-id-25 div.sk-item {position: relative;z-index: 1;}#sk-container-id-25 div.sk-parallel {display: flex;align-items: stretch;justify-content: center;background-color: white;position: relative;}#sk-container-id-25 div.sk-item::before, #sk-container-id-25 div.sk-parallel-item::before {content: \"\";position: absolute;border-left: 1px solid gray;box-sizing: border-box;top: 0;bottom: 0;left: 50%;z-index: -1;}#sk-container-id-25 div.sk-parallel-item {display: flex;flex-direction: column;z-index: 1;position: relative;background-color: white;}#sk-container-id-25 div.sk-parallel-item:first-child::after {align-self: flex-end;width: 50%;}#sk-container-id-25 div.sk-parallel-item:last-child::after {align-self: flex-start;width: 50%;}#sk-container-id-25 div.sk-parallel-item:only-child::after {width: 0;}#sk-container-id-25 div.sk-dashed-wrapped {border: 1px dashed gray;margin: 0 0.4em 0.5em 0.4em;box-sizing: border-box;padding-bottom: 0.4em;background-color: white;}#sk-container-id-25 div.sk-label label {font-family: monospace;font-weight: bold;display: inline-block;line-height: 1.2em;}#sk-container-id-25 div.sk-label-container {text-align: center;}#sk-container-id-25 div.sk-container {/* jupyter's `normalize.less` sets `[hidden] { display: none; }` but bootstrap.min.css set `[hidden] { display: none !important; }` so we also need the `!important` here to be able to override the default hidden behavior on the sphinx rendered scikit-learn.org. See: https://github.com/scikit-learn/scikit-learn/issues/21755 */display: inline-block !important;position: relative;}#sk-container-id-25 div.sk-text-repr-fallback {display: none;}</style><div id=\"sk-container-id-25\" class=\"sk-top-container\"><div class=\"sk-text-repr-fallback\"><pre>VotingClassifier(estimators=[(&#x27;bd_rf&#x27;,\n",
       "                              BaggingClassifier(estimator=RandomForestClassifier(),\n",
       "                                                random_state=42)),\n",
       "                             (&#x27;bd_dc&#x27;,\n",
       "                              BaggingClassifier(estimator=DecisionTreeClassifier(),\n",
       "                                                random_state=42)),\n",
       "                             (&#x27;bd_et&#x27;,\n",
       "                              BaggingClassifier(estimator=ExtraTreeClassifier(),\n",
       "                                                random_state=42))])</pre><b>In a Jupyter environment, please rerun this cell to show the HTML representation or trust the notebook. <br />On GitHub, the HTML representation is unable to render, please try loading this page with nbviewer.org.</b></div><div class=\"sk-container\" hidden><div class=\"sk-item sk-dashed-wrapped\"><div class=\"sk-label-container\"><div class=\"sk-label sk-toggleable\"><input class=\"sk-toggleable__control sk-hidden--visually\" id=\"sk-estimator-id-181\" type=\"checkbox\" ><label for=\"sk-estimator-id-181\" class=\"sk-toggleable__label sk-toggleable__label-arrow\">VotingClassifier</label><div class=\"sk-toggleable__content\"><pre>VotingClassifier(estimators=[(&#x27;bd_rf&#x27;,\n",
       "                              BaggingClassifier(estimator=RandomForestClassifier(),\n",
       "                                                random_state=42)),\n",
       "                             (&#x27;bd_dc&#x27;,\n",
       "                              BaggingClassifier(estimator=DecisionTreeClassifier(),\n",
       "                                                random_state=42)),\n",
       "                             (&#x27;bd_et&#x27;,\n",
       "                              BaggingClassifier(estimator=ExtraTreeClassifier(),\n",
       "                                                random_state=42))])</pre></div></div></div><div class=\"sk-parallel\"><div class=\"sk-parallel-item\"><div class=\"sk-item\"><div class=\"sk-label-container\"><div class=\"sk-label sk-toggleable\"><label>bd_rf</label></div></div><div class=\"sk-serial\"><div class=\"sk-item sk-dashed-wrapped\"><div class=\"sk-parallel\"><div class=\"sk-parallel-item\"><div class=\"sk-item\"><div class=\"sk-label-container\"><div class=\"sk-label sk-toggleable\"><input class=\"sk-toggleable__control sk-hidden--visually\" id=\"sk-estimator-id-182\" type=\"checkbox\" ><label for=\"sk-estimator-id-182\" class=\"sk-toggleable__label sk-toggleable__label-arrow\">estimator: RandomForestClassifier</label><div class=\"sk-toggleable__content\"><pre>RandomForestClassifier()</pre></div></div></div><div class=\"sk-serial\"><div class=\"sk-item\"><div class=\"sk-estimator sk-toggleable\"><input class=\"sk-toggleable__control sk-hidden--visually\" id=\"sk-estimator-id-183\" type=\"checkbox\" ><label for=\"sk-estimator-id-183\" class=\"sk-toggleable__label sk-toggleable__label-arrow\">RandomForestClassifier</label><div class=\"sk-toggleable__content\"><pre>RandomForestClassifier()</pre></div></div></div></div></div></div></div></div></div></div></div><div class=\"sk-parallel-item\"><div class=\"sk-item\"><div class=\"sk-label-container\"><div class=\"sk-label sk-toggleable\"><label>bd_dc</label></div></div><div class=\"sk-serial\"><div class=\"sk-item sk-dashed-wrapped\"><div class=\"sk-parallel\"><div class=\"sk-parallel-item\"><div class=\"sk-item\"><div class=\"sk-label-container\"><div class=\"sk-label sk-toggleable\"><input class=\"sk-toggleable__control sk-hidden--visually\" id=\"sk-estimator-id-184\" type=\"checkbox\" ><label for=\"sk-estimator-id-184\" class=\"sk-toggleable__label sk-toggleable__label-arrow\">estimator: DecisionTreeClassifier</label><div class=\"sk-toggleable__content\"><pre>DecisionTreeClassifier()</pre></div></div></div><div class=\"sk-serial\"><div class=\"sk-item\"><div class=\"sk-estimator sk-toggleable\"><input class=\"sk-toggleable__control sk-hidden--visually\" id=\"sk-estimator-id-185\" type=\"checkbox\" ><label for=\"sk-estimator-id-185\" class=\"sk-toggleable__label sk-toggleable__label-arrow\">DecisionTreeClassifier</label><div class=\"sk-toggleable__content\"><pre>DecisionTreeClassifier()</pre></div></div></div></div></div></div></div></div></div></div></div><div class=\"sk-parallel-item\"><div class=\"sk-item\"><div class=\"sk-label-container\"><div class=\"sk-label sk-toggleable\"><label>bd_et</label></div></div><div class=\"sk-serial\"><div class=\"sk-item sk-dashed-wrapped\"><div class=\"sk-parallel\"><div class=\"sk-parallel-item\"><div class=\"sk-item\"><div class=\"sk-label-container\"><div class=\"sk-label sk-toggleable\"><input class=\"sk-toggleable__control sk-hidden--visually\" id=\"sk-estimator-id-186\" type=\"checkbox\" ><label for=\"sk-estimator-id-186\" class=\"sk-toggleable__label sk-toggleable__label-arrow\">estimator: ExtraTreeClassifier</label><div class=\"sk-toggleable__content\"><pre>ExtraTreeClassifier()</pre></div></div></div><div class=\"sk-serial\"><div class=\"sk-item\"><div class=\"sk-estimator sk-toggleable\"><input class=\"sk-toggleable__control sk-hidden--visually\" id=\"sk-estimator-id-187\" type=\"checkbox\" ><label for=\"sk-estimator-id-187\" class=\"sk-toggleable__label sk-toggleable__label-arrow\">ExtraTreeClassifier</label><div class=\"sk-toggleable__content\"><pre>ExtraTreeClassifier()</pre></div></div></div></div></div></div></div></div></div></div></div></div></div></div></div>"
      ],
      "text/plain": [
       "VotingClassifier(estimators=[('bd_rf',\n",
       "                              BaggingClassifier(estimator=RandomForestClassifier(),\n",
       "                                                random_state=42)),\n",
       "                             ('bd_dc',\n",
       "                              BaggingClassifier(estimator=DecisionTreeClassifier(),\n",
       "                                                random_state=42)),\n",
       "                             ('bd_et',\n",
       "                              BaggingClassifier(estimator=ExtraTreeClassifier(),\n",
       "                                                random_state=42))])"
      ]
     },
     "execution_count": 551,
     "metadata": {},
     "output_type": "execute_result"
    }
   ],
   "source": [
    "from sklearn.datasets import make_moons\n",
    "from sklearn.ensemble import RandomForestClassifier, VotingClassifier \n",
    "from sklearn.linear_model import LogisticRegression\n",
    "from sklearn.model_selection import train_test_split\n",
    "from sklearn.svm import SVC\n",
    "from sklearn.neighbors import KNeighborsClassifier\n",
    "from sklearn.ensemble import BaggingClassifier \n",
    "from sklearn.tree import DecisionTreeClassifier\n",
    "from sklearn.tree import ExtraTreeClassifier\n",
    "\n",
    "voting_clf = VotingClassifier(\n",
    "        estimators=[\n",
    "            #('lr', LogisticRegression(random_state=42)),\n",
    "            #('rf', RandomForestClassifier(random_state=42)),\n",
    "            #('svc', SVC(random_state=42)), \n",
    "            #('dc', DecisionTreeClassifier(random_state=42, max_depth=2,)),\n",
    "            ('bd_rf', BaggingClassifier(RandomForestClassifier(),random_state=42)),\n",
    "            ('bd_dc', BaggingClassifier(DecisionTreeClassifier(),random_state=42)),\n",
    "            ('bd_et',BaggingClassifier(ExtraTreeClassifier(), random_state=42)),\n",
    "] )\n",
    "\n",
    "voting_clf.fit(X_train, y_train)"
   ]
  },
  {
   "cell_type": "code",
   "execution_count": 552,
   "metadata": {},
   "outputs": [
    {
     "name": "stdout",
     "output_type": "stream",
     "text": [
      "bd_rf = 0.9565217391304348\n",
      "bd_dc = 0.9565217391304348\n",
      "bd_et = 0.9347826086956522\n"
     ]
    }
   ],
   "source": [
    "for name, clf in voting_clf.named_estimators_.items(): \n",
    "    print(name, \"=\", clf.score(X_test, y_test))"
   ]
  },
  {
   "cell_type": "code",
   "execution_count": 553,
   "metadata": {},
   "outputs": [
    {
     "data": {
      "text/plain": [
       "0.9565217391304348"
      ]
     },
     "execution_count": 553,
     "metadata": {},
     "output_type": "execute_result"
    }
   ],
   "source": [
    "voting_clf.score(X_test, y_test)"
   ]
  },
  {
   "cell_type": "code",
   "execution_count": 554,
   "metadata": {},
   "outputs": [],
   "source": [
    "def f1_score(y_true, y_pred):\n",
    "    \"\"\"\n",
    "    Compute the F1 score.\n",
    "    \n",
    "    Parameters:\n",
    "        y_true (array-like): Ground truth (correct) target values.\n",
    "        y_pred (array-like): Estimated targets as returned by a classifier.\n",
    "        \n",
    "    Returns:\n",
    "        float: F1 score.\n",
    "    \"\"\"\n",
    "    # Calculate True Positives, False Positives, and False Negatives\n",
    "    tp = sum((true == 1 and pred == 1) for true, pred in zip(y_true, y_pred))\n",
    "    fp = sum((true == 0 and pred == 1) for true, pred in zip(y_true, y_pred))\n",
    "    fn = sum((true == 1 and pred == 0) for true, pred in zip(y_true, y_pred))\n",
    "    \n",
    "    # Calculate Precision and Recall\n",
    "    precision = tp / (tp + fp) if (tp + fp) > 0 else 0\n",
    "    recall = tp / (tp + fn) if (tp + fn) > 0 else 0\n",
    "    \n",
    "    # Calculate F1 score\n",
    "    f1 = 2 * (precision * recall) / (precision + recall) if (precision + recall) > 0 else 0\n",
    "    \n",
    "    return f1\n"
   ]
  },
  {
   "cell_type": "code",
   "execution_count": 555,
   "metadata": {},
   "outputs": [
    {
     "name": "stdout",
     "output_type": "stream",
     "text": [
      "0.1818181818181818\n",
      "0.9565217391304348\n"
     ]
    }
   ],
   "source": [
    "voting_clf.score(X_test, y_test)\n",
    "y_pred = clf.predict(X_test)\n",
    "y_vc = voting_clf.predict(X_test)\n",
    "\n",
    "\n",
    "f1 = f1_score(y, y_vc)\n",
    "print(f1)\n",
    "print(voting_clf.score(X_test, y_test))"
   ]
  },
  {
   "cell_type": "markdown",
   "metadata": {},
   "source": [
    "# TEST"
   ]
  },
  {
   "cell_type": "code",
   "execution_count": 556,
   "metadata": {},
   "outputs": [],
   "source": [
    "#[3, 18, 29, 32, 44, 49, 55, 57, 66, 83, 89, 101, 107, 114, 118, 128, 134, 141, 142, 149, 155, 169, 173]\n"
   ]
  },
  {
   "cell_type": "markdown",
   "metadata": {},
   "source": [
    "## GATING FOR TEST"
   ]
  },
  {
   "cell_type": "code",
   "execution_count": 557,
   "metadata": {},
   "outputs": [
    {
     "name": "stdout",
     "output_type": "stream",
     "text": [
      "[29999, 29999, 29999, 29999, 29999, 29999, 29999, 29999, 29999, 29999, 29999, 29999, 29999, 29999, 29999, 29999, 29999, 29999, 29999, 29999, 29999, 29999, 29999, 29999, 29999, 19999, 29999, 29999, 11007, 29999, 29999, 29999, 29999, 29999, 29999, 29999, 29999, 29999, 29999, 29999, 29999, 29999, 29999, 29999, 29999, 29999, 29999, 9999, 29999, 29999, 29999, 29999, 29999, 29999, 11737, 29999, 29999, 29999, 29999, 29999, 29999, 29999, 29999, 24157, 29999, 29999, 29999, 29999, 29999, 29999, 29999, 29999, 9999, 29999, 29999, 29999, 29999, 29999, 29999, 9589, 29999, 29999, 29999, 29999, 29999, 29999, 29999, 29999, 29999, 29999, 24815, 25403, 29999, 9999, 29999, 29999, 29999, 20823, 29999, 29999, 29999, 29999, 29999, 29999, 29999, 29999, 29999, 29999, 29999, 29999, 29999, 29999, 9999, 29999, 29999, 29999, 29999, 29999, 29999, 29999, 29999, 29999, 29999, 29999, 29999, 13797, 29999, 29999, 29999, 27155, 29999, 29999, 11101, 9999, 29999, 29999, 29999, 29999, 29999, 29999, 29999, 29999, 29999, 29999, 24346, 29999, 29999, 29999, 29999, 29999, 29999, 29999, 29999, 29999, 29999, 29999, 29999, 29999, 29999, 29999, 29999, 29999, 29999, 29999, 29999, 29999, 29999, 29999, 18163, 29999, 29999, 29999, 29999, 29999, 25817, 29999, 29795, 29999]\n"
     ]
    }
   ],
   "source": [
    "num_cells = []  # Initialize an empty list to store the number of cells for each patient\n",
    "\n",
    "# Iterate over each row (patient) in df_train\n",
    "for i in range(len(df_test)):\n",
    "    # Get the number of cells for the current patient (assuming it's in the second column)\n",
    "    cells_count = len(np.array(df_test.iloc[i, 1]).flatten())\n",
    "    \n",
    "    # Append the number of cells to the num_of_cells list\n",
    "    num_cells.append(cells_count)\n",
    "\n",
    "# Now, num_of_cells contains the number of cells for each patient\n",
    "    \n",
    "print(num_cells)"
   ]
  },
  {
   "cell_type": "code",
   "execution_count": 558,
   "metadata": {},
   "outputs": [
    {
     "name": "stdout",
     "output_type": "stream",
     "text": [
      "[0.07416913897129904, 0.06390213007100237, 0.07630254341811393, 0.06783559451981733, 0.09410313677122571, 0.061102036734557816, 0.0667355578519284, 0.1058701956731891, 0.07200240008000267, 0.07100236674555818, 0.0997033234441148, 0.08566952231741058, 0.09113637121237375, 0.1330259808865197, 0.09266975565852195, 0.09640121942151833, 0.07103570119003967, 0.06580219340644688, 0.06336877895929864, 0.05816860562018734, 0.08220274009133638, 0.0852695089836328, 0.08363612120404014, 0.06716890563018767, 0.06696889896329877, 0.06193539784659489, 0.05730191006366879, 0.052868428947631586, 0.05513517117237241, 0.07241620111731843, 0.07150238341278042, 0.07893596453215107, 0.06386879562652088, 0.05396846561552052, 0.05806860228674289, 0.07413580452681756, 0.06930231007700256, 0.06433547784926164, 0.08770292343078102, 0.0634354478482616, 0.05590186339544651, 0.0883362778759292, 0.07696923230774359, 0.0889029634321144, 0.16070532578309799, 0.06843561452048402, 0.10657021900730024, 0.04120137337911264, 0.06253541784726158, 0.0690689689656322, 0.05576852561752058, 0.09766992233074435, 0.06896896563218774, 0.08226940898029934, 0.024734157805260174, 0.1006700223340778, 0.06680222674089137, 0.07143571452381746, 0.09356978565952198, 0.05653521784059469, 0.09013633787792927, 0.06956898563285444, 0.06650221674055802, 0.09650321677389247, 0.08912028459201067, 0.07473582452748424, 0.14484240687679084, 0.06700223340778026, 0.08850295009833661, 0.050035001166705555, 0.07790259675322511, 0.0893029767658922, 0.04390146338211274, 0.05916863895463182, 0.06463548784959498, 0.09820327344244809, 0.09723657455248508, 0.06540218007266908, 0.09910330344344812, 0.0054001800060002, 0.08133604453481783, 0.052568418947298245, 0.07833594453148439, 0.19915881299166602, 0.08913630454348478, 0.07700256675222507, 0.05543518117270576, 0.07229353794683444, 0.07196906563552119, 0.102203406780226, 0.0929697656588553, 0.04306810227007567, 0.1424588951470672, 0.026100870029000967, 0.0765692189739658, 0.07610253675122504, 0.07723590786359545, 0.027434247808260277, 0.07546918230607687, 0.08413613787126238, 0.06563552118403947, 0.08096936564552151, 0.0733024434147805, 0.08010267008900297, 0.04773492449748325, 0.07763592119737324, 0.06916897229907663, 0.1298376612553752, 0.07686922897429914, 0.09053635121170706, 0.08070269008966965, 0.06253541784726158, 0.015633854461815394, 0.07073569118970632, 0.04460089201784036, 0.07493583119437315, 0.09176972565752192, 0.05263508783626121, 0.05570185672855762, 0.07610253675122504, 0.06696173615077099, 0.09326977565918863, 0.08096936564552151, 0.05806860228674289, 0.10457015233841128, 0.0574685822860762, 0.08400280009333644, 0.1006700223340778, 0.08654570749521767, 0.07553585119503983, 0.06296876562552085, 0.06853561785392846, 0.0006666888896296544, 0.019433981132704423, 0.05350178339277976, 0.0918030601020034, 0.08213607120237341, 0.09206973565785526, 0.05563518783959465, 0.08140271342378079, 0.08433614453815128, 0.2781278127812781, 0.06603553451781725, 0.07490249674989166, 0.05896863228774293, 0.08753625120837362, 0.23992399239923992, 0.054268475615853864, 0.07853595119837328, 0.09883662788759626, 0.06613553785126171, 0.059701990066335545, 0.043400868017360344, 0.07950265008833628, 0.10107003566785559, 0.137334571627583, 0.0937364578819294, 0.1027330221352206, 0.06230207673589119, 0.0634687822927431, 0.08166938897963265, 0.09356978565952198, 0.2723272327232723, 0.2769276927692769, 0.061702056735224504, 0.06933564452148405, 0.07860262008733625, 0.09440314677155905, 0.03983466115537185, 0.08029661016949152, 0.06493549784992833, 0.06063535451181706, 0.06976899229974333, 0.16141246193102313, 0.10360345344844828, 0.08980299343311443, 0.12663755458515283, 0.06670222340744691]\n"
     ]
    }
   ],
   "source": [
    "gate_t1 = []\n",
    "for i in range(len(df_test)):\n",
    "    fsc1 = np.array(df_test.iloc[i,1]).flatten()  # Remove [i] index\n",
    "    ssc1 = np.array(df_test.iloc[i,2]).flatten()  # Remove [i] index\n",
    "    cd451 = np.array(df_test.iloc[i,5]).flatten()  # Remove [i] index\n",
    "    \n",
    "    gate10001 = gate1(num_cells[i], cd451, ssc1, SSC_thresH, SSC_thresL, CD45_thresH, CD45_thresL)  # Remove [i] index\n",
    "    gate_t1.append(gate10001)\n",
    "#print(gate_1[1])\n",
    "\n",
    "gate_t2 = []\n",
    "for i in range(len(df_test)):\n",
    "    fsc2 = np.array(df_test.iloc[i,1]).flatten()\n",
    "    ssc2 = np.array(df_test.iloc[i,2]).flatten()\n",
    "\n",
    "    gate_fsc = [fsc2[loc] for loc in gate_t1[i]]\n",
    "    gate_ssc = [ssc2[loc] for loc in gate_t1[i]]\n",
    "\n",
    "    gate_num_cell = len(gate_t1)\n",
    "\n",
    "    gate20002 = gate2(len(gate_t1[i]),gate_fsc,gate_ssc,FSC_thres,SSC_thres)\n",
    "    gate_t2.append(gate20002)\n",
    "\n",
    "blast_t1 = []\n",
    "for i in range(len(df_test)):\n",
    "    ratio = len(gate_t2[i])/(num_of_cells[i])\n",
    "    blast_t1.append(ratio)\n",
    "\n",
    "print(blast_t1)"
   ]
  },
  {
   "cell_type": "code",
   "execution_count": 559,
   "metadata": {},
   "outputs": [
    {
     "name": "stdout",
     "output_type": "stream",
     "text": [
      "[29999, 29999, 29999, 29999, 29999, 29999, 29999, 29999, 29999, 29999, 29999, 29999, 29999, 29999, 29999, 29999, 29999, 29999, 29999, 29999, 29999, 29999, 29999, 29999, 29999, 19999, 29999, 29999, 11181, 29999, 29999, 29999, 29999, 29999, 29999, 29999, 29999, 29999, 29999, 29999, 29999, 29999, 29999, 29999, 29999, 29999, 29999, 9999, 29999, 29999, 29999, 29999, 29999, 29999, 12216, 29999, 29999, 29999, 29999, 29999, 29999, 29999, 29999, 23259, 29999, 29999, 29999, 29999, 29999, 25577, 29999, 29999, 29999, 29999, 29999, 29999, 29999, 29999, 29999, 15584, 29999, 29999, 29999, 29999, 29999, 29999, 29999, 29999, 29999, 29999, 24766, 26287, 29999, 9999, 29999, 29999, 29999, 22568, 29999, 29999, 29999, 29999, 29999, 29999, 29999, 29999, 29999, 29999, 29999, 25827, 29999, 29999, 9999, 29999, 29999, 29999, 29999, 29999, 29999, 29999, 29999, 29999, 29999, 29999, 29999, 14000, 29999, 29999, 29999, 28269, 29999, 29999, 11164, 9999, 29999, 29999, 29999, 29999, 29999, 29999, 29999, 29999, 29999, 29999, 24669, 29999, 29999, 29999, 29999, 29999, 29999, 29999, 29999, 29999, 29999, 29999, 29999, 29999, 29999, 29999, 29999, 29999, 29999, 29999, 29999, 29999, 29999, 29999, 16509, 29999, 29999, 29999, 29999, 29999, 25926, 29999, 29999, 29999]\n"
     ]
    }
   ],
   "source": [
    "num_cells2 = []  # Initialize an empty list to store the number of cells for each patient\n",
    "\n",
    "# Iterate over each row (patient) in df_train\n",
    "for i in range(len(df_test)):\n",
    "    # Get the number of cells for the current patient (assuming it's in the second column)\n",
    "    cells_count = len(np.array(df_test.iloc[i, 8]).flatten())\n",
    "    \n",
    "    # Append the number of cells to the num_of_cells list\n",
    "    num_cells2.append(cells_count)\n",
    "\n",
    "# Now, num_of_cells contains the number of cells for each patient\n",
    "    \n",
    "print(num_cells2)"
   ]
  },
  {
   "cell_type": "code",
   "execution_count": 560,
   "metadata": {},
   "outputs": [
    {
     "name": "stdout",
     "output_type": "stream",
     "text": [
      "[0.06163538784626154, 0.052235074502483415, 0.08823627454248475, 0.05486849561652055, 0.0746358211940398, 0.04690156338544618, 0.057835261175372514, 0.05030167672255742, 0.05926864228807627, 0.0698023267442248, 0.04886829560985366, 0.061568718957298575, 0.08510283676122538, 0.04386812893763126, 0.040101336711223706, 0.06786892896429882, 0.0557351911730391, 0.06380212673755792, 0.05930197673255775, 0.04003466782226074, 0.08470282342744759, 0.06233541118037268, 0.06296876562552085, 0.054901830061002035, 0.032801093369778996, 0.06115305765288265, 0.05350178339277976, 0.0493683122770759, 0.10544674000536625, 0.05890196339877996, 0.06296876562552085, 0.049768325610853696, 0.0783026100870029, 0.06433547784926164, 0.059235307843594785, 0.0648021600720024, 0.053335111170372346, 0.041301376712557084, 0.05583519450648355, 0.055535184506150206, 0.05090169672322411, 0.07496916563885463, 0.051735057835261174, 0.055035167838927965, 0.07866928897629921, 0.06683556118537284, 0.06393546451548385, 0.0702070207020702, 0.041934731157705255, 0.06470215673855795, 0.036801226707556915, 0.05596853228440948, 0.06470215673855795, 0.0632687756258542, 0.05983955468238376, 0.05350178339277976, 0.06580219340644688, 0.05623520784026134, 0.06456881896063202, 0.0648021600720024, 0.0706023534117804, 0.07066902230074336, 0.048034934497816595, 0.05326970205081904, 0.06150205006833561, 0.05243508116937231, 0.052068402280076004, 0.07300243341444715, 0.04830161005366845, 0.02916682957344489, 0.06553551785059503, 0.07083569452315078, 0.08206940231341045, 0.044934831161038705, 0.0661688722957432, 0.08016933897796594, 0.05570185672855762, 0.05060168672289076, 0.06880229340978032, 0.08893737166324435, 0.05096836561218707, 0.06493549784992833, 0.057101903396779896, 0.06083536117870596, 0.02746758225274176, 0.06303543451448382, 0.059701990066335545, 0.0613353778459282, 0.06646888229607653, 0.05610187006233541, 0.03597674230800291, 0.058698215848137864, 0.05636854561818727, 0.082008200820082, 0.06960232007733591, 0.0586352878429281, 0.049434981166038866, 0.08720311946118398, 0.056135204506816895, 0.05306843561452049, 0.04810160338677956, 0.07376912563752125, 0.05763525450848361, 0.06200206673555785, 0.04280142671422381, 0.05196839894663156, 0.0493683122770759, 0.05416847228240941, 0.06990233007766926, 0.07689627134394239, 0.06800226674222475, 0.050035001166705555, 0.05730573057305731, 0.05233507783592786, 0.076169205640188, 0.06930231007700256, 0.06900230007666923, 0.06513550451681722, 0.05966865562185406, 0.060035334511150375, 0.06640221340711357, 0.05560185339511317, 0.06283542784759492, 0.06353545118170606, 0.03730124337477916, 0.03642857142857143, 0.0792693089769659, 0.05376845894863162, 0.047068235607853594, 0.08963882698362163, 0.05990199673322444, 0.0675022500750025, 0.007972053027588678, 0.0743074307430743, 0.04793493116437215, 0.06350211673722457, 0.06386879562652088, 0.08190273009100303, 0.05583519450648355, 0.059368645621520715, 0.05353511783726124, 0.06116870562352079, 0.06383546118203941, 0.06743558118603954, 0.0815598524463902, 0.0584352811760392, 0.05633521117370579, 0.05103503450115004, 0.07123570785692857, 0.054968498949965, 0.06313543784792826, 0.056435214507150236, 0.05666855561852062, 0.06510217007233575, 0.06450215007166905, 0.06883562785426181, 0.07110237007900264, 0.059368645621520715, 0.052701756725224175, 0.05963532117737258, 0.07670255675189173, 0.053035101170039, 0.06893563118770625, 0.07266908896963233, 0.05716857228574286, 0.08443614787159572, 0.05700190006333544, 0.054901830061002035, 0.07408080440971591, 0.06636887896263209, 0.040701356711890395, 0.05803526784226141, 0.05546851561718724, 0.07500250008333612, 0.04535987040037028, 0.08223607453581785, 0.06073535784526151, 0.06840228007600253]\n"
     ]
    }
   ],
   "source": [
    "gate_t01 = []\n",
    "for i in range(len(df_test)):\n",
    "    fsc1 = np.array(df_test.iloc[i,8]).flatten()  # Remove [i] index\n",
    "    ssc1 = np.array(df_test.iloc[i,9]).flatten()  # Remove [i] index\n",
    "    cd451 = np.array(df_test.iloc[i,12]).flatten()  # Remove [i] index\n",
    "    \n",
    "    gate10001 = gate1(num_cells2[i], cd451, ssc1, SSC_thresH, SSC_thresL, CD45_thresH, CD45_thresL)  # Remove [i] index\n",
    "    gate_t01.append(gate10001)\n",
    "#print(gate_1[1])\n",
    "\n",
    "gate_t02 = []\n",
    "for i in range(len(df_test)):\n",
    "    fsc2 = np.array(df_test.iloc[i,8]).flatten()\n",
    "    ssc2 = np.array(df_test.iloc[i,9]).flatten()\n",
    "\n",
    "    gate_fsc = [fsc2[loc] for loc in gate_t01[i]]\n",
    "    gate_ssc = [ssc2[loc] for loc in gate_t01[i]]\n",
    "\n",
    "    gate_num_cell = len(gate_t01)\n",
    "\n",
    "    gate20002 = gate2(len(gate_t01[i]),gate_fsc,gate_ssc,FSC_thres,SSC_thres)\n",
    "    gate_t02.append(gate20002)\n",
    "\n",
    "blast_t2 = []\n",
    "for i in range(len(df_test)):\n",
    "    ratio = len(gate_t02[i])/(num_cells2[i])\n",
    "    blast_t2.append(ratio)\n",
    "\n",
    "print(blast_t2)"
   ]
  },
  {
   "cell_type": "code",
   "execution_count": 561,
   "metadata": {},
   "outputs": [
    {
     "name": "stdout",
     "output_type": "stream",
     "text": [
      "[29999, 29999, 29999, 29999, 29999, 29999, 29999, 29999, 29999, 29999, 29999, 29999, 29999, 29999, 29999, 29999, 29999, 29999, 29999, 29999, 29999, 29999, 29999, 29999, 29999, 19999, 29999, 29999, 11258, 29999, 29999, 29999, 29999, 29999, 29999, 29999, 29999, 29999, 29999, 29999, 29999, 29999, 29999, 29999, 29999, 29999, 29999, 9999, 29999, 29999, 29999, 29999, 29999, 29999, 11684, 29999, 29999, 29999, 29999, 29999, 29999, 29999, 29999, 24545, 29999, 29999, 29999, 29999, 29999, 24587, 29999, 29999, 29999, 29999, 29999, 29999, 29999, 29999, 29999, 15617, 29999, 29999, 29999, 29999, 29999, 29999, 29999, 29999, 29999, 29999, 24448, 27175, 29999, 9999, 29999, 29999, 29999, 20001, 29999, 29999, 29999, 29999, 29999, 29999, 29999, 29999, 29999, 29999, 29999, 24380, 29999, 29999, 9999, 29999, 29999, 29999, 29999, 29999, 29999, 29999, 29999, 29999, 29999, 29999, 29999, 14021, 29999, 29999, 29999, 28654, 29999, 29999, 11138, 9999, 29999, 29999, 29999, 29999, 29999, 29999, 29999, 29999, 29999, 29999, 25283, 29999, 29999, 29999, 29999, 29999, 29999, 29999, 29999, 29999, 29999, 29999, 29999, 29999, 29999, 29999, 29999, 29999, 29999, 29999, 29999, 29999, 29999, 29999, 17500, 29999, 29999, 29999, 29999, 29999, 25296, 29999, 29999, 29999]\n"
     ]
    }
   ],
   "source": [
    "num_cells3 = []  # Initialize an empty list to store the number of cells for each patient\n",
    "\n",
    "# Iterate over each row (patient) in df_train\n",
    "for i in range(len(df_test)):\n",
    "    # Get the number of cells for the current patient (assuming it's in the second column)\n",
    "    cells_count = len(np.array(df_test.iloc[i, 15]).flatten())\n",
    "    \n",
    "    # Append the number of cells to the num_of_cells list\n",
    "    num_cells3.append(cells_count)\n",
    "\n",
    "# Now, num_of_cells contains the number of cells for each patient\n",
    "    \n",
    "print(num_cells3)"
   ]
  },
  {
   "cell_type": "code",
   "execution_count": 562,
   "metadata": {},
   "outputs": [
    {
     "name": "stdout",
     "output_type": "stream",
     "text": [
      "[0.07186906230207674, 0.04813493783126104, 0.06446881562718758, 0.05140171339044635, 0.08070269008966965, 0.049134971165705525, 0.06196873229107637, 0.08796959898663288, 0.061268708956965234, 0.05990199673322444, 0.06563552118403947, 0.06566885562852096, 0.04896829894329811, 0.06493549784992833, 0.07263575452515084, 0.05063502116737224, 0.0596019867328911, 0.05340178005933531, 0.061402046734891164, 0.04966832227740925, 0.0634687822927431, 0.07320244008133604, 0.053035101170039, 0.053601786726224204, 0.06416880562685423, 0.08260413020651032, 0.04613487116237208, 0.041168038934631154, 0.06955054183691597, 0.0599686656221874, 0.05840194673155772, 0.053801793393113105, 0.07293576452548418, 0.05063502116737224, 0.054568485616187205, 0.05966865562185406, 0.05990199673322444, 0.05046834894496483, 0.07106903563452115, 0.05793526450881696, 0.04780159338644621, 0.07013567118903963, 0.05653521784059469, 0.05140171339044635, 0.06076869228974299, 0.0677022567418914, 0.06026867562252075, 0.056605660566056606, 0.051001700056668556, 0.06533551118370612, 0.04206806893563119, 0.08013600453348445, 0.055168505616853894, 0.06370212340411346, 0.08156453269428278, 0.08773625787526251, 0.058135271175705855, 0.06786892896429882, 0.08086936231207707, 0.07083569452315078, 0.07780259341978066, 0.059435314510483686, 0.05143504783492783, 0.05834182114483601, 0.05913530451015034, 0.048934964498816624, 0.05216840561352045, 0.06580219340644688, 0.07990266342211406, 0.03855696099564811, 0.06886896229874329, 0.08143604786826228, 0.06083536117870596, 0.04836827894263142, 0.05620187339577986, 0.08193606453548452, 0.062702090069669, 0.0515017167238908, 0.08000266675555852, 0.04040468719984632, 0.06543551451715057, 0.05523517450581686, 0.06863562118737292, 0.06890229674322478, 0.07266908896963233, 0.053035101170039, 0.052835094503150104, 0.05726857561918731, 0.0584352811760392, 0.07006900230007666, 0.03983965968586387, 0.064360625574977, 0.07160238674622488, 0.06500650065006501, 0.07003566785559519, 0.06330211007033568, 0.060468682289409645, 0.05619719014049297, 0.07556918563952132, 0.0459015300510017, 0.06360212007066902, 0.08083602786759558, 0.05850195006500217, 0.06570219007300243, 0.0476349211640388, 0.06863562118737292, 0.06196873229107637, 0.05840194673155772, 0.06696889896329877, 0.02461033634126333, 0.06396879895996534, 0.05386846228207607, 0.031103110311031103, 0.0592019733991133, 0.057668588952965096, 0.06490216340544684, 0.0748358278609287, 0.047901596719890666, 0.05603520117337245, 0.05106836894563152, 0.05080169338977966, 0.06703556785226174, 0.07190239674655823, 0.051335044501483386, 0.08656955231841061, 0.01982740175451109, 0.06506883562785426, 0.07920264008800293, 0.03596786559551985, 0.06958888811335241, 0.06063535451181706, 0.0557351911730391, 0.15065541389836595, 0.049304930493049307, 0.06056868562285409, 0.0796359878662622, 0.06933564452148405, 0.07340244674822494, 0.045234841161372046, 0.07073569118970632, 0.06453548451615054, 0.07740258008600287, 0.05900196673222441, 0.05493516450548352, 0.041490329470395125, 0.0740691356378546, 0.0657688589619654, 0.05166838894629821, 0.07750258341944731, 0.05200173339111304, 0.07146904896829895, 0.04210140338011267, 0.06600220007333578, 0.06450215007166905, 0.07293576452548418, 0.07443581452715091, 0.07553585119503983, 0.07783592786426215, 0.05513517117237241, 0.06460215340511351, 0.0738691289709657, 0.07763592119737324, 0.0823694123137438, 0.05666855561852062, 0.04553485116170539, 0.06913563785459516, 0.0650021667388913, 0.076169205640188, 0.028457142857142858, 0.06790226340878029, 0.051735057835261174, 0.054701823394113135, 0.0495683189439648, 0.059868662288742956, 0.05004743833017078, 0.07696923230774359, 0.06453548451615054, 0.05610187006233541]\n"
     ]
    }
   ],
   "source": [
    "gate_t001 = []\n",
    "for i in range(len(df_test)):\n",
    "    fsc1 = np.array(df_test.iloc[i,15]).flatten()  # Remove [i] index\n",
    "    ssc1 = np.array(df_test.iloc[i,16]).flatten()  # Remove [i] index\n",
    "    cd451 = np.array(df_test.iloc[i,19]).flatten()  # Remove [i] index\n",
    "    \n",
    "    gate10001 = gate1(num_cells3[i], cd451, ssc1, SSC_thresH, SSC_thresL, CD45_thresH, CD45_thresL)  # Remove [i] index\n",
    "    gate_t001.append(gate10001)\n",
    "#print(gate_1[1])\n",
    "\n",
    "gate_t002 = []\n",
    "for i in range(len(df_test)):\n",
    "    fsc2 = np.array(df_test.iloc[i,15]).flatten()\n",
    "    ssc2 = np.array(df_test.iloc[i,16]).flatten()\n",
    "\n",
    "    gate_fsc = [fsc2[loc] for loc in gate_t001[i]]\n",
    "    gate_ssc = [ssc2[loc] for loc in gate_t001[i]]\n",
    "\n",
    "    gate_num_cell = len(gate_t001)\n",
    "\n",
    "    gate20002 = gate2(len(gate_t001[i]),gate_fsc,gate_ssc,FSC_thres,SSC_thres)\n",
    "    gate_t002.append(gate20002)\n",
    "\n",
    "blast_t3 = []\n",
    "for i in range(len(df_test)):\n",
    "    ratio = len(gate_t002[i])/(num_cells3[i])\n",
    "    blast_t3.append(ratio)\n",
    "\n",
    "print(blast_t3)"
   ]
  },
  {
   "cell_type": "code",
   "execution_count": 563,
   "metadata": {},
   "outputs": [
    {
     "name": "stdout",
     "output_type": "stream",
     "text": [
      "[29999, 29999, 29999, 29999, 29999, 29999, 29999, 29999, 29999, 29999, 29999, 29999, 29999, 29999, 29999, 29999, 29999, 29999, 29999, 29999, 29999, 29999, 29999, 29999, 29999, 19999, 29999, 29999, 11245, 29999, 29999, 29999, 29999, 29999, 29999, 29999, 29999, 29999, 29999, 29999, 29999, 29999, 29999, 29999, 29999, 29999, 29999, 9999, 29999, 29999, 29999, 29999, 29999, 29999, 11874, 29999, 29999, 29999, 29999, 29999, 29999, 29999, 29999, 22951, 29999, 29999, 29999, 29999, 29999, 24599, 29999, 29999, 29999, 29999, 29999, 29999, 29999, 29999, 29999, 14678, 29999, 29999, 29999, 29999, 29999, 29999, 29999, 29999, 29999, 29999, 22795, 27103, 29999, 9999, 29999, 29999, 29999, 15512, 29999, 29999, 29999, 29999, 29999, 29999, 29999, 29999, 29999, 29999, 29999, 26142, 29999, 29999, 9999, 29999, 29999, 29999, 29999, 29999, 29999, 29999, 29999, 29999, 29999, 29999, 29999, 13849, 29999, 29999, 29999, 23535, 29999, 29999, 11250, 9999, 29999, 29999, 29999, 29999, 29999, 29999, 29999, 29999, 29999, 29999, 26155, 29999, 29999, 29999, 29999, 29999, 29999, 29999, 29999, 29999, 29999, 29999, 29999, 29999, 29999, 29999, 29999, 29999, 29999, 29999, 29999, 29999, 29999, 29999, 16767, 29999, 29999, 29999, 29999, 29999, 25736, 29999, 29999, 29999]\n"
     ]
    }
   ],
   "source": [
    "num_cells4 = []  # Initialize an empty list to store the number of cells for each patient\n",
    "\n",
    "# Iterate over each row (patient) in df_train\n",
    "for i in range(len(df_test)):\n",
    "    # Get the number of cells for the current patient (assuming it's in the second column)\n",
    "    cells_count = len(np.array(df_test.iloc[i, 23]).flatten())\n",
    "    \n",
    "    # Append the number of cells to the num_of_cells list\n",
    "    num_cells4.append(cells_count)\n",
    "\n",
    "# Now, num_of_cells contains the number of cells for each patient\n",
    "    \n",
    "print(num_cells4)"
   ]
  },
  {
   "cell_type": "code",
   "execution_count": 564,
   "metadata": {},
   "outputs": [
    {
     "name": "stdout",
     "output_type": "stream",
     "text": [
      "[0.042134737824594155, 0.046334877829260976, 0.04813493783126104, 0.04970165672189073, 0.0711690389679656, 0.04736824560818694, 0.047434914497149906, 0.024867495583186107, 0.03130104336811227, 0.049268308943631454, 0.05313510450348345, 0.03843461448714957, 0.08946964898829961, 0.020067335577852594, 0.06886896229874329, 0.0331677722590753, 0.028367612253741792, 0.05403513450448348, 0.044001466715557186, 0.02833427780926031, 0.043668122270742356, 0.04390146338211274, 0.0524684156138538, 0.02850095003166772, 0.03580119337311244, 0.04595229761488075, 0.0370345678189273, 0.039601320044001465, 0.07879057358826146, 0.038067935597853264, 0.04993499783326111, 0.039334644488149606, 0.07210240341344712, 0.05156838561285376, 0.057235241174705825, 0.04443481449381646, 0.03020100670022334, 0.03080102670089003, 0.0430014333811127, 0.04920164005466849, 0.03533451115037168, 0.04653488449614987, 0.02686756225207507, 0.0717357245241508, 0.052701756725224175, 0.06056868562285409, 0.054401813393779794, 0.0313031303130313, 0.03566785559518651, 0.057235241174705825, 0.030501016700556684, 0.027900930031001032, 0.03126770892363079, 0.040568018933964466, 0.07714333838639044, 0.046168205606853564, 0.056768558951965066, 0.04463482116070536, 0.04016800560018667, 0.055668522284076136, 0.04876829227640921, 0.040101336711223706, 0.04676822560752025, 0.06339593046054638, 0.0397346578219274, 0.04656821894063135, 0.03913463782126071, 0.0611353711790393, 0.024600820027334245, 0.07142566771006952, 0.05080169338977966, 0.14537151238374613, 0.034634487816260544, 0.02773425780859362, 0.0557351911730391, 0.04546818227274242, 0.039167972265742194, 0.0345344844828161, 0.04713490449681656, 0.02820547758550211, 0.03290109670322344, 0.062035401180039335, 0.04980166005533518, 0.04250141671389046, 0.03263442114737158, 0.02933431114370479, 0.05646854895163172, 0.03903463448781626, 0.04623487449581653, 0.04696823227440915, 0.04022812020179864, 0.041213149835811536, 0.037267908930297675, 0.0464046404640464, 0.042768092269742326, 0.0331677722590753, 0.038834627820927364, 0.03977565755544095, 0.05190173005766859, 0.04673489116303877, 0.040868028934297806, 0.10050335011167039, 0.037001233374445816, 0.0515017167238908, 0.03640121337377913, 0.03566785559518651, 0.03976799226640888, 0.08826960898696623, 0.0443681456048535, 0.08186060745161043, 0.06000200006666889, 0.031701056701890065, 0.035903590359035904, 0.03910130337677922, 0.042568085602853425, 0.05243508116937231, 0.019200640021334044, 0.03966798893296443, 0.053335111170372346, 0.05353511783726124, 0.026334211140371346, 0.038101270042334746, 0.04603486782892763, 0.035434514483816126, 0.02283409446981566, 0.10585601848508917, 0.04696823227440915, 0.03753458448614954, 0.02746758225274176, 0.06849373273847462, 0.051468382279409315, 0.04390146338211274, 0.052, 0.0428042804280428, 0.050501683389446314, 0.023967465582186074, 0.049401646721557384, 0.04663488782959432, 0.0412680422680756, 0.03366778892629754, 0.044001466715557186, 0.027400913363778794, 0.031201040034667823, 0.03730124337477916, 0.05658573886446186, 0.02933431114370479, 0.04093469782326078, 0.037734591153038434, 0.04486816227207573, 0.044601486716223875, 0.050835027834261144, 0.045868195606520216, 0.04066802226740891, 0.03646788226274209, 0.046934897829927665, 0.05230174339144638, 0.05916863895463182, 0.041334711157038566, 0.05243508116937231, 0.04776825894196473, 0.041168038934631154, 0.041668055601853396, 0.02823427447581586, 0.06070202340078003, 0.03006766892229741, 0.05336844561485383, 0.04313477115903863, 0.03523450781692723, 0.03250432396970239, 0.05373512450415014, 0.028300943364778827, 0.03476782559418647, 0.03920130671022368, 0.053335111170372346, 0.047559838358719304, 0.05326844228140938, 0.0412680422680756, 0.04140138004600153]\n"
     ]
    }
   ],
   "source": [
    "gate_t0001 = []\n",
    "for i in range(len(df_test)):\n",
    "    fsc1 = np.array(df_test.iloc[i,22]).flatten()  # Remove [i] index\n",
    "    ssc1 = np.array(df_test.iloc[i,23]).flatten()  # Remove [i] index\n",
    "    cd451 = np.array(df_test.iloc[i,26]).flatten()  # Remove [i] index\n",
    "    \n",
    "    gate10001 = gate1(num_cells4[i], cd451, ssc1, SSC_thresH, SSC_thresL, CD45_thresH, CD45_thresL)  # Remove [i] index\n",
    "    gate_t0001.append(gate10001)\n",
    "#print(gate_1[1])\n",
    "\n",
    "gate_t0002 = []\n",
    "for i in range(len(df_test)):\n",
    "    fsc2 = np.array(df_test.iloc[i,22]).flatten()\n",
    "    ssc2 = np.array(df_test.iloc[i,23]).flatten()\n",
    "\n",
    "    gate_fsc = [fsc2[loc] for loc in gate_t0001[i]]\n",
    "    gate_ssc = [ssc2[loc] for loc in gate_t0001[i]]\n",
    "\n",
    "    gate_num_cell = len(gate_t0001)\n",
    "\n",
    "    gate20002 = gate2(len(gate_t0001[i]),gate_fsc,gate_ssc,FSC_thres,SSC_thres)\n",
    "    gate_t0002.append(gate20002)\n",
    "\n",
    "blast_t4 = []\n",
    "for i in range(len(df_test)):\n",
    "    ratio = len(gate_t0002[i])/(num_cells4[i])\n",
    "    blast_t4.append(ratio)\n",
    "\n",
    "print(blast_t4)"
   ]
  },
  {
   "cell_type": "code",
   "execution_count": 565,
   "metadata": {},
   "outputs": [
    {
     "name": "stdout",
     "output_type": "stream",
     "text": [
      "[29999, 29999, 29999, 29999, 29999, 29999, 29999, 29999, 29999, 29999, 29999, 29999, 18264, 29999, 29999, 29999, 29999, 29999, 29999, 29999, 29999, 29999, 29999, 29999, 29999, 19999, 29999, 29999, 10988, 29999, 29999, 29999, 29999, 29999, 29999, 29999, 29999, 29999, 29999, 29999, 29999, 29999, 29999, 29999, 29999, 29999, 29999, 9999, 29999, 29999, 29999, 29999, 29999, 29999, 12046, 29999, 29999, 29999, 29999, 29999, 29999, 29999, 29999, 23478, 29999, 29999, 29999, 29999, 29999, 24203, 29999, 29999, 29999, 29999, 29999, 29999, 29999, 29999, 29999, 15941, 29999, 29999, 29999, 29999, 29999, 29999, 29999, 29999, 29999, 29999, 24990, 28773, 29999, 9999, 29999, 29999, 29999, 20793, 29999, 29999, 29999, 29999, 29999, 29999, 29999, 29999, 29999, 29999, 29999, 21502, 29999, 29999, 9999, 29999, 29999, 29999, 29999, 29999, 29999, 29999, 29999, 29999, 29999, 29999, 29999, 14055, 29999, 29999, 29999, 27318, 29999, 29999, 11274, 9999, 29999, 29999, 29999, 29999, 29999, 29999, 29999, 29999, 29999, 29999, 25884, 29999, 29999, 29999, 29999, 29999, 29999, 29999, 29999, 29999, 29999, 29999, 29999, 29999, 29999, 29999, 29999, 29999, 29999, 29999, 29999, 29999, 29999, 29999, 27396, 29999, 29999, 29999, 29999, 29999, 26338, 29999, 29999, 29999]\n"
     ]
    }
   ],
   "source": [
    "num_cells5 = []  # Initialize an empty list to store the number of cells for each patient\n",
    "\n",
    "# Iterate over each row (patient) in df_train\n",
    "for i in range(len(df_test)):\n",
    "    # Get the number of cells for the current patient (assuming it's in the second column)\n",
    "    cells_count = len(np.array(df_test.iloc[i, 29]).flatten())\n",
    "    \n",
    "    # Append the number of cells to the num_of_cells list\n",
    "    num_cells5.append(cells_count)\n",
    "\n",
    "# Now, num_of_cells contains the number of cells for each patient\n",
    "    \n",
    "print(num_cells5)"
   ]
  },
  {
   "cell_type": "code",
   "execution_count": 566,
   "metadata": {},
   "outputs": [
    {
     "name": "stdout",
     "output_type": "stream",
     "text": [
      "[0.06026867562252075, 0.045834861162038734, 0.05276842561418714, 0.05850195006500217, 0.06610220340678023, 0.0873695789859662, 0.0441681389379646, 0.09343644788159605, 0.07336911230374346, 0.08300276675889197, 0.10100336677889263, 0.05523517450581686, 0.10616513359614542, 0.08823627454248475, 0.08646954898496617, 0.055035167838927965, 0.08113603786792893, 0.051935064502150075, 0.06360212007066902, 0.03863462115403847, 0.07050235007833594, 0.0565018833961132, 0.06443548118270609, 0.07393579785992867, 0.09146971565718857, 0.041802090104505224, 0.03890129670989033, 0.04283476115870529, 0.04659628685839097, 0.07416913897129904, 0.052068402280076004, 0.04823494116470549, 0.0698023267442248, 0.049268308943631454, 0.05373512450415014, 0.05620187339577986, 0.07320244008133604, 0.07546918230607687, 0.08156938564618821, 0.06960232007733591, 0.06620220674022467, 0.06180206006866896, 0.06656888562952099, 0.04346811560385346, 0.0995033167772259, 0.060802026734224475, 0.05726857561918731, 0.0558055805580558, 0.06200206673555785, 0.06800226674222475, 0.05486849561652055, 0.13640454681822728, 0.0827360912030401, 0.06546884896163205, 0.0242404117549394, 0.07426914230474349, 0.07203573452448415, 0.0777359245308177, 0.045701523384112805, 0.06820227340911364, 0.06476882562752091, 0.06960232007733591, 0.0690689689656322, 0.06265439986370219, 0.042134737824594155, 0.06030201006700223, 0.05776859228640955, 0.055501850061668724, 0.07523584119470648, 0.06193447093335537, 0.06473549118303944, 0.040234674489149636, 0.029900996699889996, 0.09130304343478116, 0.07423580786026202, 0.053001766725557516, 0.0677022567418914, 0.050501683389446314, 0.05163505450181673, 0.09384605733642808, 0.06866895563185439, 0.051601720057335244, 0.05683522784092803, 0.04540151338377946, 0.07180239341311377, 0.10637021234041134, 0.04696823227440915, 0.07696923230774359, 0.08650288342944765, 0.06396879895996534, 0.030772308923569427, 0.045563549160671464, 0.06226874229140971, 0.07900790079007901, 0.0837027900930031, 0.06853561785392846, 0.06706890229674323, 0.08315298417736738, 0.06513550451681722, 0.0443681456048535, 0.049901663388779625, 0.07210240341344712, 0.051601720057335244, 0.060802026734224475, 0.043034767825594185, 0.06193539784659489, 0.04836827894263142, 0.05453515117170572, 0.11083702790093003, 0.05548321086410567, 0.05350178339277976, 0.06366878895963199, 0.0853085308530853, 0.10733691123037435, 0.07280242674755825, 0.07320244008133604, 0.07110237007900264, 0.049001633387779596, 0.04896829894329811, 0.08036934564485483, 0.09216973899129971, 0.07183572785759525, 0.06276875895863196, 0.03910130337677922, 0.06890229674322478, 0.024332977588046957, 0.12817093903130106, 0.10080336011200373, 0.032001066702223406, 0.06146130756277912, 0.045501516717223904, 0.0584352811760392, 0.0499379102359411, 0.05150515051505151, 0.04356811893729791, 0.07430247674922498, 0.06030201006700223, 0.07280242674755825, 0.0603686789559652, 0.09900330011000366, 0.08663622120737358, 0.1371379045968199, 0.056435214507150236, 0.06896896563218774, 0.08445371658167207, 0.07183572785759525, 0.047268242274742495, 0.07493583119437315, 0.07686922897429914, 0.06323544118137271, 0.0621020700690023, 0.06390213007100237, 0.05713523784126138, 0.09653655121837394, 0.052835094503150104, 0.05486849561652055, 0.06026867562252075, 0.06910230341011367, 0.08073602453415114, 0.045701523384112805, 0.10327010900363345, 0.0794693156438548, 0.105103503450115, 0.06573552451748392, 0.09563652121737391, 0.05870195673189106, 0.06620220674022467, 0.07416913897129904, 0.02967586508979413, 0.06426880896029867, 0.10333677789259642, 0.060668688956298546, 0.057668588952965096, 0.08576952565085502, 0.04708026425696712, 0.06243541451381713, 0.05563518783959465, 0.05930197673255775]\n"
     ]
    }
   ],
   "source": [
    "gate_t00001 = []\n",
    "for i in range(len(df_test)):\n",
    "    fsc1 = np.array(df_test.iloc[i,29]).flatten()  # Remove [i] index\n",
    "    ssc1 = np.array(df_test.iloc[i,30]).flatten()  # Remove [i] index\n",
    "    cd451 = np.array(df_test.iloc[i,33]).flatten()  # Remove [i] index\n",
    "    \n",
    "    gate10001 = gate1(num_cells5[i], cd451, ssc1, SSC_thresH, SSC_thresL, CD45_thresH, CD45_thresL)  # Remove [i] index\n",
    "    gate_t00001.append(gate10001)\n",
    "#print(gate_1[1])\n",
    "\n",
    "gate_t00002 = []\n",
    "for i in range(len(df_test)):\n",
    "    fsc2 = np.array(df_test.iloc[i,29]).flatten()\n",
    "    ssc2 = np.array(df_test.iloc[i,30]).flatten()\n",
    "\n",
    "    gate_fsc = [fsc2[loc] for loc in gate_t00001[i]]\n",
    "    gate_ssc = [ssc2[loc] for loc in gate_t00001[i]]\n",
    "\n",
    "    gate_num_cell = len(gate_t00001)\n",
    "\n",
    "    gate20002 = gate2(len(gate_t00001[i]),gate_fsc,gate_ssc,FSC_thres,SSC_thres)\n",
    "    gate_t00002.append(gate20002)\n",
    "\n",
    "blast_t5 = []\n",
    "for i in range(len(df_test)):\n",
    "    ratio = len(gate_t00002[i])/(num_cells5[i])\n",
    "    blast_t5.append(ratio)\n",
    "\n",
    "print(blast_t5)"
   ]
  },
  {
   "cell_type": "code",
   "execution_count": 567,
   "metadata": {},
   "outputs": [
    {
     "name": "stdout",
     "output_type": "stream",
     "text": [
      "[29999, 29999, 29999, 29999, 29999, 29999, 29999, 29999, 29999, 29999, 29999, 29999, 18384, 29999, 29999, 29999, 29999, 29999, 29999, 29999, 29999, 29999, 29999, 29999, 29999, 19999, 29999, 29999, 10888, 29999, 29999, 29999, 29999, 29999, 29999, 29999, 29999, 29999, 29999, 29999, 29999, 29999, 29999, 29999, 29999, 29999, 29999, 9999, 29999, 29999, 29999, 29999, 29999, 29999, 11795, 29999, 29999, 29999, 29999, 29999, 29999, 29999, 29999, 24218, 29999, 29999, 29999, 29999, 29999, 26833, 29999, 29999, 29999, 29999, 29999, 29999, 29999, 29999, 29999, 14247, 29999, 29999, 29999, 29999, 29999, 29999, 29999, 29999, 29999, 29999, 25213, 27834, 29999, 9999, 29999, 29999, 29999, 21491, 29999, 29999, 29999, 29999, 29999, 29999, 29999, 29999, 29999, 29999, 29999, 24410, 29999, 29999, 9999, 29999, 29999, 29999, 29999, 29999, 29999, 29999, 29999, 29999, 29999, 29999, 29999, 14208, 29999, 29999, 29999, 29898, 29999, 29999, 11458, 9999, 29999, 29999, 29999, 29999, 29999, 29999, 29999, 29999, 29999, 29999, 26470, 29999, 29999, 29999, 29999, 29999, 29999, 29999, 29999, 29999, 29999, 29999, 29999, 29999, 29999, 29999, 29999, 29999, 29999, 29999, 29999, 29999, 29999, 29999, 29999, 29999, 29999, 29999, 29999, 29999, 25791, 29999, 29999, 29999]\n"
     ]
    }
   ],
   "source": [
    "num_cells6 = []  # Initialize an empty list to store the number of cells for each patient\n",
    "\n",
    "# Iterate over each row (patient) in df_train\n",
    "for i in range(len(df_test)):\n",
    "    # Get the number of cells for the current patient (assuming it's in the second column)\n",
    "    cells_count = len(np.array(df_test.iloc[i, 36]).flatten())\n",
    "    \n",
    "    # Append the number of cells to the num_of_cells list\n",
    "    num_cells6.append(cells_count)\n",
    "\n",
    "# Now, num_of_cells contains the number of cells for each patient\n",
    "    \n",
    "print(num_cells6)"
   ]
  },
  {
   "cell_type": "code",
   "execution_count": 568,
   "metadata": {},
   "outputs": [
    {
     "name": "stdout",
     "output_type": "stream",
     "text": [
      "[0.03720124004133471, 0.05313510450348345, 0.043368112270409015, 0.055368512283742795, 0.042434747824927496, 0.06660222007400246, 0.05056835227840928, 0.1037701256708557, 0.05123504116803893, 0.05063502116737224, 0.06173539117970599, 0.05620187339577986, 0.04862924281984334, 0.0621020700690023, 0.05830194339811327, 0.05063502116737224, 0.04736824560818694, 0.04830161005366845, 0.06620220674022467, 0.044001466715557186, 0.05103503450115004, 0.07063568785626187, 0.0358678622620754, 0.056601886729557654, 0.0727024234141138, 0.06860343017150858, 0.06123537451248375, 0.05080169338977966, 0.01588905216752388, 0.041334711157038566, 0.05213507116903897, 0.06510217007233575, 0.06123537451248375, 0.049434981166038866, 0.04076802560085336, 0.05220174005800193, 0.04786826227540918, 0.0630687689589653, 0.05726857561918731, 0.043634787826260873, 0.06196873229107637, 0.053468448948298275, 0.05693523117437248, 0.03736791226374212, 0.058335277842594756, 0.048334944498149936, 0.0495683189439648, 0.0812081208120812, 0.06116870562352079, 0.05880196006533551, 0.038701290043001435, 0.05810193673122437, 0.07100236674555818, 0.06353545118170606, 0.04561254768969902, 0.08750291676389213, 0.06883562785426181, 0.04296809893663122, 0.06253541784726158, 0.06560218673955799, 0.04730157671922398, 0.0387679589319644, 0.06530217673922464, 0.06515814683293418, 0.054701823394113135, 0.06890229674322478, 0.060035334511150375, 0.05076835894529818, 0.06763558785292843, 0.07155368389669436, 0.044268142271409044, 0.03793459781992733, 0.03723457448581619, 0.06496883229440982, 0.0733024434147805, 0.05376845894863162, 0.048201606720224006, 0.061402046734891164, 0.06276875895863196, 0.08619358461430476, 0.06786892896429882, 0.04870162338744625, 0.04463482116070536, 0.021834061135371178, 0.06686889562985433, 0.05473515783859462, 0.04280142671422381, 0.042134737824594155, 0.058335277842594756, 0.07176905896863228, 0.016737397374370366, 0.06186678163397284, 0.059701990066335545, 0.0817081708170817, 0.049001633387779596, 0.07863595453181772, 0.049134971165705525, 0.10297333767623656, 0.06590219673989132, 0.04380146004866829, 0.06243541451381713, 0.03796793226440881, 0.047568252275075835, 0.05273509116970566, 0.0599686656221874, 0.04983499449981666, 0.055935197839927994, 0.05570185672855762, 0.037267908930297675, 0.05358459647685375, 0.04903496783226108, 0.04736824560818694, 0.12821282128212821, 0.07393579785992867, 0.04853495116503884, 0.04326810893696457, 0.07430247674922498, 0.04403480116003867, 0.05720190673022434, 0.061102036734557816, 0.05523517450581686, 0.05636854561818727, 0.03380112670422347, 0.03283442781426048, 0.07086902896763225, 0.05095720720720721, 0.045701523384112805, 0.043501450048334944, 0.060335344511483716, 0.07431935246504782, 0.03646788226274209, 0.05706856895229841, 0.010996683539884797, 0.085008500850085, 0.05473515783859462, 0.04496816560552019, 0.05810193673122437, 0.07230241008033601, 0.062368745624854165, 0.056435214507150236, 0.049434981166038866, 0.05693523117437248, 0.04153471782392747, 0.05313510450348345, 0.07151492255383453, 0.03986799559985333, 0.05056835227840928, 0.04156805226840895, 0.049734991166372214, 0.04856828560952032, 0.05810193673122437, 0.053201773392446416, 0.07296909896996566, 0.04736824560818694, 0.048634954498483284, 0.04676822560752025, 0.06776892563085436, 0.08386946231541051, 0.06760225340844694, 0.045701523384112805, 0.05376845894863162, 0.0746358211940398, 0.08490283009433648, 0.05900196673222441, 0.0748358278609287, 0.046601553385112834, 0.05743524784159472, 0.055535184506150206, 0.044601486716223875, 0.048634954498483284, 0.06490216340544684, 0.04293476449214974, 0.040701356711890395, 0.0414680489349645, 0.06684502345779536, 0.06483549451648388, 0.03283442781426048, 0.05096836561218707]\n"
     ]
    }
   ],
   "source": [
    "gate_t00001 = []\n",
    "for i in range(len(df_test)):\n",
    "    fsc1 = np.array(df_test.iloc[i,36]).flatten()  # Remove [i] index\n",
    "    ssc1 = np.array(df_test.iloc[i,37]).flatten()  # Remove [i] index\n",
    "    cd451 = np.array(df_test.iloc[i,40]).flatten()  # Remove [i] index\n",
    "    \n",
    "    gate10001 = gate1(num_cells6[i], cd451, ssc1, SSC_thresH, SSC_thresL, CD45_thresH, CD45_thresL)  # Remove [i] index\n",
    "    gate_t00001.append(gate10001)\n",
    "#print(gate_1[1])\n",
    "\n",
    "gate_t00002 = []\n",
    "for i in range(len(df_test)):\n",
    "    fsc2 = np.array(df_test.iloc[i,36]).flatten()\n",
    "    ssc2 = np.array(df_test.iloc[i,37]).flatten()\n",
    "\n",
    "    gate_fsc = [fsc2[loc] for loc in gate_t00001[i]]\n",
    "    gate_ssc = [ssc2[loc] for loc in gate_t00001[i]]\n",
    "\n",
    "    gate_num_cell = len(gate_t00001)\n",
    "\n",
    "    gate20002 = gate2(len(gate_t00001[i]),gate_fsc,gate_ssc,FSC_thres,SSC_thres)\n",
    "    gate_t00002.append(gate20002)\n",
    "\n",
    "blast_t6 = []\n",
    "for i in range(len(df_test)):\n",
    "    ratio = len(gate_t00002[i])/(num_cells6[i])\n",
    "    blast_t6.append(ratio)\n",
    "\n",
    "print(blast_t6)"
   ]
  },
  {
   "cell_type": "code",
   "execution_count": 569,
   "metadata": {},
   "outputs": [
    {
     "name": "stdout",
     "output_type": "stream",
     "text": [
      "[29999, 29999, 29999, 29999, 29999, 29999, 29999, 29999, 29999, 29999, 29999, 29999, 18117, 29999, 29999, 29999, 29999, 29999, 29999, 29999, 29999, 29999, 29999, 29999, 29999, 19999, 29999, 29999, 12072, 29999, 29999, 29999, 29999, 29999, 29999, 29999, 29999, 29999, 29999, 29999, 29999, 29999, 29999, 29999, 29999, 29999, 29999, 9999, 29999, 29999, 29999, 29999, 29999, 29999, 11820, 29999, 29999, 29999, 29999, 29999, 29999, 29999, 29999, 24776, 29999, 29999, 29999, 29999, 29999, 27458, 29999, 29999, 29999, 29999, 29999, 29999, 29999, 29999, 29999, 15795, 29999, 29999, 29999, 29999, 29999, 29999, 29999, 29999, 29999, 29999, 23870, 27733, 29999, 9999, 29999, 29999, 29999, 20691, 29999, 29999, 29999, 29999, 29999, 29999, 29999, 29999, 29999, 29999, 29999, 25073, 29999, 29999, 9999, 29999, 29999, 29999, 29999, 29999, 29999, 29999, 29999, 29999, 29999, 29999, 29999, 14408, 29999, 29999, 29999, 27907, 29999, 29999, 12309, 9999, 29999, 29999, 29999, 29999, 29999, 29999, 29999, 29999, 29999, 29999, 27411, 29999, 29999, 29999, 29999, 29999, 29999, 29999, 29999, 29999, 29999, 29999, 29999, 29999, 29999, 29999, 29999, 29999, 29999, 29999, 29999, 29999, 29999, 29999, 15925, 29999, 29999, 29999, 29999, 29999, 25053, 29999, 29999, 29999]\n"
     ]
    }
   ],
   "source": [
    "num_cells7 = []  # Initialize an empty list to store the number of cells for each patient\n",
    "\n",
    "# Iterate over each row (patient) in df_train\n",
    "for i in range(len(df_test)):\n",
    "    # Get the number of cells for the current patient (assuming it's in the second column)\n",
    "    cells_count = len(np.array(df_test.iloc[i, 43]).flatten())\n",
    "    \n",
    "    # Append the number of cells to the num_of_cells list\n",
    "    num_cells7.append(cells_count)\n",
    "\n",
    "# Now, num_of_cells contains the number of cells for each patient\n",
    "    \n",
    "print(num_cells7)"
   ]
  },
  {
   "cell_type": "code",
   "execution_count": 570,
   "metadata": {},
   "outputs": [
    {
     "name": "stdout",
     "output_type": "stream",
     "text": [
      "[0.07433581119370646, 0.05883529450981699, 0.04656821894063135, 0.05646854895163172, 0.09056968565618854, 0.05040168005600187, 0.057535251175039166, 0.08303610120337344, 0.062168738957965264, 0.062035401180039335, 0.06946898229940998, 0.08256941898063269, 0.10095490423359275, 0.06120204006800227, 0.06166872229074302, 0.0603686789559652, 0.05790193006433548, 0.0675022500750025, 0.06200206673555785, 0.05546851561718724, 0.06413547118237274, 0.0789026300876696, 0.07470249008300277, 0.05603520117337245, 0.05020167338911297, 0.08570428521426071, 0.04553485116170539, 0.035901196706556886, 0.08316766070245195, 0.06506883562785426, 0.06263542118070603, 0.06913563785459516, 0.07216907230241008, 0.04496816560552019, 0.05153505116837228, 0.05273509116970566, 0.05913530451015034, 0.05413513783792793, 0.08563618787292909, 0.05950198339944665, 0.03970132337744591, 0.07916930564352145, 0.05743524784159472, 0.049134971165705525, 0.06626887562918764, 0.06860228674289143, 0.06276875895863196, 0.054105410541054104, 0.05430181006033535, 0.06486882896096537, 0.04883496116537218, 0.05706856895229841, 0.04980166005533518, 0.07573585786192873, 0.13849407783417936, 0.09056968565618854, 0.06740224674155805, 0.06613553785126171, 0.08343611453715123, 0.0696356545218174, 0.0792693089769659, 0.05726857561918731, 0.055801860062002065, 0.04128995802389409, 0.07870262342078069, 0.0611353711790393, 0.06043534784492816, 0.0661688722957432, 0.06010200340011334, 0.0429383057760944, 0.0657688589619654, 0.06630221007366913, 0.07860262008733625, 0.04843494783159439, 0.06196873229107637, 0.0958698623287443, 0.06466882229407647, 0.05760192006400213, 0.09786992899763325, 0.03912630579297246, 0.06746891563052101, 0.060168672289076304, 0.06163538784626154, 0.08593619787326244, 0.08170272342411414, 0.05826860895363179, 0.053935131171039034, 0.06010200340011334, 0.06293543118103936, 0.05926864228807627, 0.043946376204440724, 0.031334511232106156, 0.056768558951965066, 0.07140714071407141, 0.0690356345211507, 0.06566885562852096, 0.06873562452081736, 0.01904209559711952, 0.06233541118037268, 0.05693523117437248, 0.06753558451948398, 0.06443548118270609, 0.06163538784626154, 0.07180239341311377, 0.04293476449214974, 0.0746358211940398, 0.056435214507150236, 0.12643754791826395, 0.0675022500750025, 0.017189805767159894, 0.06160205340178006, 0.05506850228340945, 0.0639063906390639, 0.0621020700690023, 0.07080236007866929, 0.06386879562652088, 0.07496916563885463, 0.052868428947631586, 0.0524684156138538, 0.0698023267442248, 0.06690223007433581, 0.08073602453415114, 0.07113570452348411, 0.05433514450481683, 0.0927697589919664, 0.04303164908384231, 0.07686922897429914, 0.0642021400713357, 0.038501283376112534, 0.03948830042641631, 0.06073535784526151, 0.05043501450048335, 0.08327240230725486, 0.054405440544054405, 0.05253508450281676, 0.04683489449648322, 0.07726924230807694, 0.08703623454115138, 0.03593453115103837, 0.06836894563152104, 0.06813560452015067, 0.04053468448948298, 0.042901430047668256, 0.056401880062668754, 0.044690087920907666, 0.07356911897063236, 0.07766925564185473, 0.040234674489149636, 0.0746358211940398, 0.04696823227440915, 0.04780159338644621, 0.04200140004666822, 0.06970232341078036, 0.07273575785859529, 0.06553551785059503, 0.08103603453448448, 0.0731024367478916, 0.07953598453281777, 0.06040201340044668, 0.06316877229240975, 0.06916897229907663, 0.08503616787226241, 0.044901496716557215, 0.06443548118270609, 0.0515017167238908, 0.06746891563052101, 0.07153571785726191, 0.085836194539818, 0.06197802197802198, 0.07130237674589153, 0.042901430047668256, 0.057235241174705825, 0.06526884229474315, 0.05720190673022434, 0.062068414960284195, 0.08493616453881796, 0.06336877895929864, 0.055501850061668724]\n"
     ]
    }
   ],
   "source": [
    "gate_t000001 = []\n",
    "for i in range(len(df_test)):\n",
    "    fsc1 = np.array(df_test.iloc[i,43]).flatten()  # Remove [i] index\n",
    "    ssc1 = np.array(df_test.iloc[i,44]).flatten()  # Remove [i] index\n",
    "    cd451 = np.array(df_test.iloc[i,47]).flatten()  # Remove [i] index\n",
    "    \n",
    "    gate10001 = gate1(num_cells7[i], cd451, ssc1, SSC_thresH, SSC_thresL, CD45_thresH, CD45_thresL)  # Remove [i] index\n",
    "    gate_t000001.append(gate10001)\n",
    "#print(gate_1[1])\n",
    "\n",
    "gate_t000002 = []\n",
    "for i in range(len(df_test)):\n",
    "    fsc2 = np.array(df_test.iloc[i,43]).flatten()\n",
    "    ssc2 = np.array(df_test.iloc[i,44]).flatten()\n",
    "\n",
    "    gate_fsc = [fsc2[loc] for loc in gate_t000001[i]]\n",
    "    gate_ssc = [ssc2[loc] for loc in gate_t000001[i]]\n",
    "\n",
    "    gate_num_cell = len(gate_t000001)\n",
    "\n",
    "    gate20002 = gate2(len(gate_t000001[i]),gate_fsc,gate_ssc,FSC_thres,SSC_thres)\n",
    "    gate_t000002.append(gate20002)\n",
    "\n",
    "blast_t7 = []\n",
    "for i in range(len(df_test)):\n",
    "    ratio = len(gate_t000002[i])/(num_cells7[i])\n",
    "    blast_t7.append(ratio)\n",
    "\n",
    "print(blast_t7)"
   ]
  },
  {
   "cell_type": "code",
   "execution_count": 571,
   "metadata": {},
   "outputs": [
    {
     "name": "stdout",
     "output_type": "stream",
     "text": [
      "[29999, 9999, 29999, 29999, 9999, 29999, 9999, 29999, 9999, 29999, 29999, 29999, 9999, 9999, 29999, 10569, 12584, 29999, 29999, 29999, 29999, 29999, 29999, 29999, 9999, 10495, 9999, 29999, 29999, 21887, 9999, 29999, 29999, 9999, 9999, 16055, 18175, 29999, 29999, 29999, 29999, 9999, 29567, 20863, 29999, 29999, 17151, 9999, 29999, 9999, 9999, 29999, 10694, 29999, 9999, 29999, 29999, 29999, 29999, 29999, 10367, 9999, 29999, 29999, 29999, 9999, 29999, 9999, 29999, 16672, 9999, 29999, 9999, 29999, 29999, 9999, 14207, 29999, 9999, 9157, 29999, 9999, 8699, 9999, 29999, 29999, 9999, 20351, 29999, 29999, 29999, 10555, 29999, 9999, 9999, 29999, 29999, 10320, 29999, 29999, 29999, 9999, 9999, 29999, 9999, 29999, 9999, 9999, 9999, 9999, 9999, 9999, 9999, 29999, 29999, 29999, 29999, 29999, 18815, 29999, 9999, 10623, 29999, 29999, 29999, 29999, 29999, 29999, 29999, 9999, 9999, 29999, 29999, 9999, 9999, 29999, 29999, 29999, 29999, 9999, 29999, 8905, 29999, 12543, 29999, 29999, 10361, 29999, 29999, 11543, 9999, 20351, 12415, 29999, 9999, 29999, 10117, 20389, 29999, 10495, 9999, 29999, 10751, 9999, 9999, 29999, 29999, 12792, 29999, 10530, 9999, 29999, 29999, 29999, 24839, 25215, 29999, 9033]\n"
     ]
    }
   ],
   "source": [
    "num_cells8 = []  # Initialize an empty list to store the number of cells for each patient\n",
    "\n",
    "# Iterate over each row (patient) in df_train\n",
    "for i in range(len(df_test)):\n",
    "    # Get the number of cells for the current patient (assuming it's in the second column)\n",
    "    cells_count = len(np.array(df_test.iloc[i, 50]).flatten())\n",
    "    \n",
    "    # Append the number of cells to the num_of_cells list\n",
    "    num_cells8.append(cells_count)\n",
    "\n",
    "# Now, num_of_cells contains the number of cells for each patient\n",
    "    \n",
    "print(num_cells8)"
   ]
  },
  {
   "cell_type": "code",
   "execution_count": 572,
   "metadata": {},
   "outputs": [
    {
     "name": "stdout",
     "output_type": "stream",
     "text": [
      "[0.049268308943631454, 0.019801980198019802, 0.06280209340311343, 0.04270142338077936, 0.0242024202420242, 0.05063502116737224, 0.0368036803680368, 0.07726924230807694, 0.020002000200020003, 0.04890163005433514, 0.0524684156138538, 0.04606820227340911, 0.041504150415041505, 0.0204020402040204, 0.051735057835261174, 0.004163118554262465, 0.040050858232676415, 0.05603520117337245, 0.041801393379779325, 0.04203473449114971, 0.0611353711790393, 0.03940131337711257, 0.06890229674322478, 0.04530151005033501, 0.0070007000700070005, 0.11376846117198666, 0.0167016701670167, 0.03686789559651989, 0.05810193673122437, 0.03234796911408599, 0.030103010301030103, 0.04983499449981666, 0.05696856561885396, 0.020202020202020204, 0.0222022202220222, 0.04515727187791965, 0.009408528198074279, 0.042768092269742326, 0.05180172672422414, 0.04746824894163139, 0.03813460448681623, 0.036103610361036105, 0.0018263604694422836, 0.05924363706082538, 0.05180172672422414, 0.047101570052335076, 0.10139350475190952, 0.030403040304030404, 0.0353011767058902, 0.022902290229022904, 0.010101010101010102, 0.06496883229440982, 0.03562745464746587, 0.05180172672422414, 0.023602360236023603, 0.037001233374445816, 0.04143471449048301, 0.05273509116970566, 0.05763525450848361, 0.026067535584519484, 0.1416996238063085, 0.013001300130013, 0.05430181006033535, 0.04856828560952032, 0.05390179672655755, 0.029202920292029203, 0.0518683956131871, 0.036003600360036005, 0.03743458115270509, 0.05560220729366603, 0.0427042704270427, 0.09040301343378113, 0.036103610361036105, 0.04360145338177939, 0.05056835227840928, 0.047204720472047206, 0.05842190469486873, 0.041634721157371914, 0.043304330433043305, 0.11270066615703833, 0.05056835227840928, 0.045504550455045506, 0.03333716519140131, 0.040004000400040006, 0.05116837227907597, 0.047268242274742495, 0.0501050105010501, 0.1372905508328829, 0.05436847894929831, 0.06453548451615054, 0.06660222007400246, 0.01648507816200853, 0.05116837227907597, 0.029102910291029103, 0.029202920292029203, 0.06866895563185439, 0.04190139671322377, 0.07877906976744187, 0.03910130337677922, 0.06130204340144672, 0.03630121004033468, 0.0386038603860386, 0.0134013401340134, 0.046001533384446146, 0.017301730173017303, 0.06766892229740991, 0.0196019601960196, 0.047304730473047306, 0.012901290129012902, 0.0519051905190519, 0.050505050505050504, 0.0193019301930193, 0.009000900090009001, 0.044901496716557215, 0.06006866895563186, 0.042901430047668256, 0.04683489449648322, 0.043668122270742356, 0.01025777305341483, 0.05356845228174272, 0.007500750075007501, 0.04753836016191283, 0.058935297843261444, 0.049134971165705525, 0.06596886562885429, 0.1072369078969299, 0.05080169338977966, 0.0495683189439648, 0.03740124670822361, 0.0481048104810481, 0.028602860286028604, 0.051335044501483386, 0.06896896563218774, 0.0195019501950195, 0.030503050305030505, 0.042268075602520085, 0.05243508116937231, 0.05850195006500217, 0.04530151005033501, 0.0269026902690269, 0.04353478449281643, 0.027175743964065132, 0.041934731157705255, 0.002790401020489516, 0.05343511450381679, 0.06053535117837261, 0.050477753112633916, 0.0378012600420014, 0.0513017100570019, 0.13982500216581478, 0.014801480148014802, 0.12530096801139992, 0.054208618606524366, 0.06260208673622454, 0.0331033103310331, 0.04966832227740925, 0.07274883858851439, 0.07793418019520329, 0.03950131671055702, 0.12453549309194854, 0.0316031603160316, 0.03563452115070502, 0.0040926425448795465, 0.049004900490049005, 0.0139013901390139, 0.050835027834261144, 0.05850195006500217, 0.030800500312695434, 0.05743524784159472, 0.1070275403608737, 0.0084008400840084, 0.04333477782592753, 0.06103536784559485, 0.059235307843594785, 0.06497846129071219, 0.04648026968074559, 0.0704023467448915, 0.01715930477139378]\n"
     ]
    }
   ],
   "source": [
    "gate_t0000001 = []\n",
    "for i in range(len(df_test)):\n",
    "    fsc1 = np.array(df_test.iloc[i,50]).flatten()  # Remove [i] index\n",
    "    ssc1 = np.array(df_test.iloc[i,51]).flatten()  # Remove [i] index\n",
    "    cd451 = np.array(df_test.iloc[i,54]).flatten()  # Remove [i] index\n",
    "    \n",
    "    gate10001 = gate1(num_cells8[i], cd451, ssc1, SSC_thresH, SSC_thresL, CD45_thresH, CD45_thresL)  # Remove [i] index\n",
    "    gate_t0000001.append(gate10001)\n",
    "#print(gate_1[1])\n",
    "\n",
    "gate_t0000002 = []\n",
    "for i in range(len(df_test)):\n",
    "    fsc2 = np.array(df_test.iloc[i,50]).flatten()\n",
    "    ssc2 = np.array(df_test.iloc[i,51]).flatten()\n",
    "\n",
    "    gate_fsc = [fsc2[loc] for loc in gate_t0000001[i]]\n",
    "    gate_ssc = [ssc2[loc] for loc in gate_t0000001[i]]\n",
    "\n",
    "    gate_num_cell = len(gate_t0000001)\n",
    "\n",
    "    gate20002 = gate2(len(gate_t0000001[i]),gate_fsc,gate_ssc,FSC_thres,SSC_thres)\n",
    "    gate_t0000002.append(gate20002)\n",
    "\n",
    "blast_t8 = []\n",
    "for i in range(len(df_test)):\n",
    "    ratio = len(gate_t0000002[i])/(num_cells8[i])\n",
    "    blast_t8.append(ratio)\n",
    "\n",
    "print(blast_t8)"
   ]
  },
  {
   "cell_type": "markdown",
   "metadata": {},
   "source": [
    "## OTHER FEATURES FOR TEST"
   ]
  },
  {
   "cell_type": "code",
   "execution_count": 573,
   "metadata": {},
   "outputs": [],
   "source": [
    "test_results = testing_patients_df.copy()\n",
    "\n",
    "test_results['Diagnosis'] = test_results['Diagnosis'].map({'aml': 1, 'normal': 0})"
   ]
  },
  {
   "cell_type": "code",
   "execution_count": 574,
   "metadata": {},
   "outputs": [],
   "source": [
    "ratio1_t = calculate_ratio(df_test_med, 0, 0)\n",
    "ratio2_t = calculate_ratio(df_test_med, 1, 1)\n",
    "ratio3_t = calculate_ratio(df_test_med, 2, 2)\n",
    "ratio4_t = calculate_ratio(df_test_med, 3, 3)\n",
    "ratio5_t = calculate_ratio(df_test_med, 4, 4)\n",
    "ratio6_t = calculate_ratio(df_test_med, 5, 5)\n",
    "ratio7_t = calculate_ratio(df_test_med, 6, 6)\n",
    "ratio8_t = calculate_ratio(df_test_med, 7, 7)"
   ]
  },
  {
   "cell_type": "code",
   "execution_count": 575,
   "metadata": {},
   "outputs": [],
   "source": [
    "num = 5\n",
    "\n",
    "fsc_6t =calculate_ratio2(df_test_med, num, FSC_channel)\n",
    "ssc_6t = calculate_ratio2(df_test_med, num, SSC_channel)\n",
    "pe_6t = calculate_ratio2(df_test_med, num, PE_channel)\n",
    "pc5_6t = calculate_ratio2(df_test_med, num, PC5_channel)\n",
    "pc7_6t = calculate_ratio2(df_test_med, num, PC7_channel)\n",
    "fitc_6t = calculate_ratio2(df_test_med, num, FITC_channel)\n"
   ]
  },
  {
   "cell_type": "markdown",
   "metadata": {},
   "source": [
    "# MACHINE LEARNING FOR TEST"
   ]
  },
  {
   "cell_type": "code",
   "execution_count": 576,
   "metadata": {},
   "outputs": [
    {
     "name": "stdout",
     "output_type": "stream",
     "text": [
      "     Patient Number Diagnosis\n",
      "0                 4    normal\n",
      "1                 5       aml\n",
      "2                 6    normal\n",
      "3                 8    normal\n",
      "4                 9    normal\n",
      "..              ...       ...\n",
      "173             345    normal\n",
      "174             352    normal\n",
      "175             354    normal\n",
      "176             358    normal\n",
      "177             359    normal\n",
      "\n",
      "[178 rows x 2 columns]\n",
      "Number of 1s in the array: 15\n"
     ]
    }
   ],
   "source": [
    "from sklearn import metrics\n",
    "from sklearn.decomposition import PCA \n",
    "\n",
    "blast_test = {'blast_ratio1': blast_t1, \n",
    "              'blast_ratio2': blast_t2,\n",
    "              'blast_ratio3': blast_t3, \n",
    "              'blast_ratio4': blast_t4,\n",
    "              'blast_ratio5':blast_t5,\n",
    "              'blast_ratio6': blast_t6,\n",
    "              'blast_ratio7': blast_t7,\n",
    "              'blast_ratio8':blast_t8,\n",
    "\n",
    "              'ratio1_t':ratio1_t,\n",
    "              'ratio2_t':ratio2_t,\n",
    "              'ratio3_t':ratio3_t,\n",
    "              'ratio4_t':ratio4_t,\n",
    "              'ratio5_t':ratio5_t,\n",
    "              'ratio6_t':ratio6_t,\n",
    "              'ratio7_t':ratio7_t,\n",
    "              'ratio8_t':ratio8_t,\n",
    "\n",
    "              'fsc_6t':fsc_6t,\n",
    "              'ssc_6t':ssc_6t,\n",
    "              'pe_6t':pe_6t,\n",
    "              'pc5_6t':pc5_6t,\n",
    "              'pc7_6t':pc7_6t,\n",
    "              'fitc_6t':fitc_6t\n",
    "\n",
    "              } \n",
    "\n",
    "Xt = pd.DataFrame(blast_test)\n",
    "\n",
    "pca = PCA(n_components= pca_num)\n",
    "blast_pca = pca.fit_transform(Xt)\n",
    "\n",
    "test_predict = voting_clf.predict(blast_pca)\n",
    "\n",
    "def convert_binary_to_text(binary_array):\n",
    "    text_array = []\n",
    "    for bit in binary_array:\n",
    "        if bit == 1:\n",
    "            text_array.append(\"aml\")\n",
    "        elif bit == 0:\n",
    "            text_array.append(\"normal\")\n",
    "        else:\n",
    "            raise ValueError(\"Input array should only contain 0s and 1s\")\n",
    "    return text_array\n",
    "\n",
    "text_predict = convert_binary_to_text(test_predict)\n",
    "# print(text_predict)\n",
    "\n",
    "# Assuming y_test_predict is a numpy array\n",
    "# test_predict = [np.array(df_test.iloc[:, 0]).flatten().transpose()] +  [voting_clf.predict(blast_pca).transpose()]\n",
    "# print(test_predict)\n",
    "\n",
    "patient_nums = df_test.iloc[:,0]\n",
    "diagnosis = text_predict # voting_clf.predict(text_predict).transpose()\n",
    "\n",
    "# df_predict = pd.DataFrame(test_predict)\n",
    "df_predict = pd.DataFrame({'Patient Number': patient_nums, 'Diagnosis': diagnosis})\n",
    "df_predict.to_csv('Gabe_Rustia_predictions3.csv',index=False)\n",
    "\n",
    "print(df_predict)\n",
    "\n",
    "# Count the number of 1s\n",
    "count_ones = np.count_nonzero(test_predict == 1)\n",
    "\n",
    "print(\"Number of 1s in the array:\", count_ones)"
   ]
  },
  {
   "cell_type": "markdown",
   "metadata": {},
   "source": [
    "# Figures for Data"
   ]
  },
  {
   "cell_type": "code",
   "execution_count": 577,
   "metadata": {},
   "outputs": [
    {
     "data": {
      "text/plain": [
       "\" import matplotlib.pyplot as plt\\nimport seaborn as sns\\nimport numpy as np\\n\\n\\n# Sample data (assuming df_train, FSC_channel, and SSC_channel are defined)\\npa1 = 169\\npa2 = 4\\n\\n# Assuming df_train, FSC_channel, and SSC_channel are defined\\n\\nfig, axs = plt.subplots(2, 4, figsize=(16, 10))\\n\\n# Overlay scatter plots for pa1 and pa2 for each subplot\\n\\n# Loop through each subplot\\nfor i in range(2):\\n    for j in range(4):\\n        # Scatter plot for vial (i*4 + j + 1)\\n        sns.scatterplot(x=np.array(df_train.iloc[pa1, CD45_channel[i*4 + j]]).flatten(),\\n                        y=np.array(df_train.iloc[pa1, SSC_channel[i*4 + j]]).flatten(),\\n                        ax=axs[i, j], color='blue', alpha=0.5, s=0.75)\\n        sns.scatterplot(x=np.array(df_train.iloc[pa2, CD45_channel[i*4 + j]]).flatten(),\\n                        y=np.array(df_train.iloc[pa2, SSC_channel[i*4 + j]]).flatten(),\\n                        ax=axs[i, j], color='red', alpha=0.5, s=0.75)\\n        axs[i, j].set_title('CD45 v SS Scatter plot vial {}'.format(i*4 + j + 1))\\n\\n# Set x and y axis ticks\\nfor ax in axs.flat:\\n    ax.set_xticks(np.arange(-1.5, 2.25, 0.5))\\n    ax.set_yticks(np.arange(-1.5, 2.25, 0.5))\\n\\nplt.tight_layout()\\nplt.show()\\n \""
      ]
     },
     "execution_count": 577,
     "metadata": {},
     "output_type": "execute_result"
    }
   ],
   "source": [
    "\"\"\" import matplotlib.pyplot as plt\n",
    "import seaborn as sns\n",
    "import numpy as np\n",
    "\n",
    "\n",
    "# Sample data (assuming df_train, FSC_channel, and SSC_channel are defined)\n",
    "pa1 = 169\n",
    "pa2 = 4\n",
    "\n",
    "# Assuming df_train, FSC_channel, and SSC_channel are defined\n",
    "\n",
    "fig, axs = plt.subplots(2, 4, figsize=(16, 10))\n",
    "\n",
    "# Overlay scatter plots for pa1 and pa2 for each subplot\n",
    "\n",
    "# Loop through each subplot\n",
    "for i in range(2):\n",
    "    for j in range(4):\n",
    "        # Scatter plot for vial (i*4 + j + 1)\n",
    "        sns.scatterplot(x=np.array(df_train.iloc[pa1, CD45_channel[i*4 + j]]).flatten(),\n",
    "                        y=np.array(df_train.iloc[pa1, SSC_channel[i*4 + j]]).flatten(),\n",
    "                        ax=axs[i, j], color='blue', alpha=0.5, s=0.75)\n",
    "        sns.scatterplot(x=np.array(df_train.iloc[pa2, CD45_channel[i*4 + j]]).flatten(),\n",
    "                        y=np.array(df_train.iloc[pa2, SSC_channel[i*4 + j]]).flatten(),\n",
    "                        ax=axs[i, j], color='red', alpha=0.5, s=0.75)\n",
    "        axs[i, j].set_title('CD45 v SS Scatter plot vial {}'.format(i*4 + j + 1))\n",
    "\n",
    "# Set x and y axis ticks\n",
    "for ax in axs.flat:\n",
    "    ax.set_xticks(np.arange(-1.5, 2.25, 0.5))\n",
    "    ax.set_yticks(np.arange(-1.5, 2.25, 0.5))\n",
    "\n",
    "plt.tight_layout()\n",
    "plt.show()\n",
    " \"\"\""
   ]
  },
  {
   "cell_type": "code",
   "execution_count": 578,
   "metadata": {},
   "outputs": [
    {
     "data": {
      "text/plain": [
       "\" import seaborn as sns\\nimport matplotlib.pyplot as plt\\n\\n# Plot the first scatter plot\\n\\n\\nra = ratio6\\nsns.scatterplot(x=df_train_med.iloc[:,0], y= ra, color='red', s=10)\\nsns.scatterplot(x=[df_train_med.iloc[i,0] for i in aml_positions], y=[ra[i] for i in aml_positions], color='blue', s=20)\\n\\nplt.tight_layout()\\nplt.show()\\n\\n# ratio: 6 \""
      ]
     },
     "execution_count": 578,
     "metadata": {},
     "output_type": "execute_result"
    }
   ],
   "source": [
    "\"\"\" import seaborn as sns\n",
    "import matplotlib.pyplot as plt\n",
    "\n",
    "# Plot the first scatter plot\n",
    "\n",
    "\n",
    "ra = ratio6\n",
    "sns.scatterplot(x=df_train_med.iloc[:,0], y= ra, color='red', s=10)\n",
    "sns.scatterplot(x=[df_train_med.iloc[i,0] for i in aml_positions], y=[ra[i] for i in aml_positions], color='blue', s=20)\n",
    "\n",
    "plt.tight_layout()\n",
    "plt.show()\n",
    "\n",
    "# ratio: 6 \"\"\""
   ]
  }
 ],
 "metadata": {
  "kernelspec": {
   "display_name": "Python 3",
   "language": "python",
   "name": "python3"
  },
  "language_info": {
   "codemirror_mode": {
    "name": "ipython",
    "version": 3
   },
   "file_extension": ".py",
   "mimetype": "text/x-python",
   "name": "python",
   "nbconvert_exporter": "python",
   "pygments_lexer": "ipython3",
   "version": "3.12.0"
  }
 },
 "nbformat": 4,
 "nbformat_minor": 2
}
